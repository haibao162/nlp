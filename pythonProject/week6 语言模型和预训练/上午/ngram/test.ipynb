{
 "cells": [
  {
   "cell_type": "code",
   "execution_count": 17,
   "metadata": {},
   "outputs": [
    {
     "name": "stdout",
     "output_type": "stream",
     "text": [
      "{1: defaultdict(<class 'int'>, {}), 2: defaultdict(<class 'int'>, {})} {1: {}, 2: {}, 3: {}, 4: {}, 5: {}, 6: {}, 7: {}, 8: {}, 9: {}, 10: {}}\n",
      "defaultdict(<class 'int'>, {})\n",
      "{}\n",
      "1111\n"
     ]
    }
   ],
   "source": [
    "from collections import defaultdict\n",
    "x = dict((x + 1, defaultdict(int)) for x in range(2))\n",
    "y = dict((x + 1, {}) for x in range(10))\n",
    "\n",
    "print(x,y)\n",
    "a = '2'\n",
    "t = {\n",
    "}\n",
    "print(x[1])\n",
    "print(y[2])\n",
    "# print(t[2])\n",
    "print(x.get('3', '1111'))\n",
    "\n"
   ]
  },
  {
   "cell_type": "code",
   "execution_count": 20,
   "metadata": {},
   "outputs": [
    {
     "name": "stdout",
     "output_type": "stream",
     "text": [
      "tensor([1, 2])\n"
     ]
    }
   ],
   "source": [
    "import torch\n",
    "x = torch.LongTensor([1,2])\n",
    "print(x)\n",
    "if torch.cuda.is_available():\n",
    "    print(1)\n",
    "\n"
   ]
  },
  {
   "cell_type": "code",
   "execution_count": 11,
   "metadata": {},
   "outputs": [
    {
     "name": "stdout",
     "output_type": "stream",
     "text": [
      "[{'q_w1': 1}]\n"
     ]
    }
   ],
   "source": [
    "t = 5\n",
    "result = []\n",
    "result.append({\n",
    "            \"q_w\" + str(0+1) : 1\n",
    "            })\n",
    "print(result)"
   ]
  },
  {
   "cell_type": "code",
   "execution_count": 15,
   "metadata": {},
   "outputs": [
    {
     "name": "stdout",
     "output_type": "stream",
     "text": [
      "[1, 3]\n",
      "['xx', 'yy']\n"
     ]
    }
   ],
   "source": [
    "t = [[1,3], [\"xx\", \"yy\"]]\n",
    "\n",
    "for i in t:\n",
    "    print(i)"
   ]
  },
  {
   "cell_type": "code",
   "execution_count": 44,
   "metadata": {},
   "outputs": [
    {
     "name": "stdout",
     "output_type": "stream",
     "text": [
      "2\n"
     ]
    }
   ],
   "source": []
  },
  {
   "cell_type": "code",
   "execution_count": 47,
   "metadata": {},
   "outputs": [
    {
     "name": "stdout",
     "output_type": "stream",
     "text": [
      "4.123105625617661\n"
     ]
    }
   ],
   "source": []
  },
  {
   "cell_type": "code",
   "execution_count": 55,
   "metadata": {},
   "outputs": [
    {
     "name": "stdout",
     "output_type": "stream",
     "text": [
      "<generator object Tokenizer.cut at 0x11ed822a0> te\n",
      "中国 最美 的 地方 : 湖北 的 隐匿 仙境 中国最美的地方:湖北的隐匿仙境\n",
      "['中国', '最美', '的', '地方', ':', '湖北', '的', '隐匿', '仙境'] 中国最美的地方:湖北的隐匿仙境\n",
      "['中国', '最美', '的', '地方', ':', '湖北', '的', '隐匿', '仙境'] 中国最美的地方:湖北的隐匿仙境\n"
     ]
    }
   ],
   "source": []
  }
 ],
 "metadata": {
  "kernelspec": {
   "display_name": "base",
   "language": "python",
   "name": "python3"
  },
  "language_info": {
   "codemirror_mode": {
    "name": "ipython",
    "version": 3
   },
   "file_extension": ".py",
   "mimetype": "text/x-python",
   "name": "python",
   "nbconvert_exporter": "python",
   "pygments_lexer": "ipython3",
   "version": "3.12.2"
  }
 },
 "nbformat": 4,
 "nbformat_minor": 4
}
