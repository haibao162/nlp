{
 "cells": [
  {
   "cell_type": "code",
   "execution_count": 3,
   "id": "1a6a8d37-d791-4d72-aa50-dd821a27d77a",
   "metadata": {},
   "outputs": [
    {
     "name": "stdout",
     "output_type": "stream",
     "text": [
      "{1: 0}\n"
     ]
    }
   ],
   "source": [
    "a = 1\n",
    "b = {}\n",
    "b[a] = 0\n",
    "print(b)"
   ]
  },
  {
   "cell_type": "code",
   "execution_count": 14,
   "id": "2bd912cc-090a-4a11-9fd8-9aa7665fe550",
   "metadata": {},
   "outputs": [
    {
     "name": "stdout",
     "output_type": "stream",
     "text": [
      "True\n",
      "dict_keys(['经常', '经', '有', '常', '有意见', '歧', '意见', '分歧', '见', '意', '见分歧', '分']) dict_values([0.1, 0.05, 0.1, 0.001, 0.1, 0.001, 0.2, 0.2, 0.05, 0.05, 0.05, 0.1])\n",
      "0.05\n"
     ]
    }
   ],
   "source": [
    "Dict = {\"经常\":0.1,\n",
    "        \"经\":0.05,\n",
    "        \"有\":0.1,\n",
    "        \"常\":0.001,\n",
    "        \"有意见\":0.1,\n",
    "        \"歧\":0.001,\n",
    "        \"意见\":0.2,\n",
    "        \"分歧\":0.2,\n",
    "        \"见\":0.05,\n",
    "        \"意\":0.05,\n",
    "        \"见分歧\":0.05,\n",
    "        \"分\":0.1}\n",
    "print( '见分歧' in Dict)\n",
    "print(Dict.keys(), Dict.values())\n",
    "print(Dict.get('见分歧'))\n"
   ]
  },
  {
   "cell_type": "code",
   "execution_count": 15,
   "id": "f8e8270b",
   "metadata": {},
   "outputs": [
    {
     "name": "stdout",
     "output_type": "stream",
     "text": [
      "['5']\n"
     ]
    }
   ],
   "source": [
    "a= ['12', '34', '5']\n",
    "t = [x for x in a if len(x) == 1] # 相当于filter\n",
    "print(t)"
   ]
  },
  {
   "cell_type": "code",
   "execution_count": 22,
   "id": "2356a748-3680-4baf-ab2d-76b33bd8bab5",
   "metadata": {},
   "outputs": [
    {
     "name": "stdout",
     "output_type": "stream",
     "text": [
      "['12', '56', '34']\n",
      "<zip object at 0x1105516c0>\n",
      "['12', '56']\n",
      "1\n",
      "a True\n"
     ]
    }
   ],
   "source": [
    "a = ['12', '56']\n",
    "b = ['34']\n",
    "print(a + b)\n",
    "print(zip(a, b))\n",
    "print(a[0:2])\n",
    "c = '123123'\n",
    "print(c[0:1])\n",
    "print('a', 1 <= 1)\n"
   ]
  },
  {
   "cell_type": "code",
   "execution_count": null,
   "id": "dbc409a1",
   "metadata": {},
   "outputs": [],
   "source": []
  },
  {
   "cell_type": "code",
   "execution_count": 1,
   "id": "d454f4e2-2a66-4087-b63b-d58e4d15ed19",
   "metadata": {},
   "outputs": [
    {
     "name": "stdout",
     "output_type": "stream",
     "text": [
      "[1, 22]\n"
     ]
    }
   ],
   "source": [
    "a = [1,22,333]\n",
    "print(a[:-1])"
   ]
  },
  {
   "cell_type": "code",
   "execution_count": 8,
   "id": "876a5d91-34ec-44fa-8a16-969b10f90800",
   "metadata": {},
   "outputs": [
    {
     "name": "stdout",
     "output_type": "stream",
     "text": [
      "      9    \n",
      "9 1\n"
     ]
    }
   ],
   "source": [
    "a = '      9    '\n",
    "print(a)\n",
    "print(a.strip(), len(a.strip()))\n"
   ]
  },
  {
   "cell_type": "code",
   "execution_count": 10,
   "id": "dd1e2095",
   "metadata": {},
   "outputs": [
    {
     "name": "stdout",
     "output_type": "stream",
     "text": [
      "tensor([[[-0.5858,  0.8666],\n",
      "         [-1.5822,  0.2924],\n",
      "         [-1.2134,  1.1194],\n",
      "         [-0.7310,  1.4822],\n",
      "         [ 1.1153, -1.2748]],\n",
      "\n",
      "        [[ 1.4033,  0.7523],\n",
      "         [ 0.9098,  0.8890],\n",
      "         [-0.7715,  0.4652],\n",
      "         [ 1.8561, -0.1968],\n",
      "         [-0.9025, -0.6117]],\n",
      "\n",
      "        [[ 0.6657, -1.5450],\n",
      "         [ 0.6958,  1.0212],\n",
      "         [ 1.4989,  1.4544],\n",
      "         [-0.4397, -0.3408],\n",
      "         [-0.5347, -0.5205]]])\n",
      "tensor([[-0.5858,  0.8666],\n",
      "        [-1.5822,  0.2924],\n",
      "        [-1.2134,  1.1194],\n",
      "        [-0.7310,  1.4822],\n",
      "        [ 1.1153, -1.2748],\n",
      "        [ 1.4033,  0.7523],\n",
      "        [ 0.9098,  0.8890],\n",
      "        [-0.7715,  0.4652],\n",
      "        [ 1.8561, -0.1968],\n",
      "        [-0.9025, -0.6117],\n",
      "        [ 0.6657, -1.5450],\n",
      "        [ 0.6958,  1.0212],\n",
      "        [ 1.4989,  1.4544],\n",
      "        [-0.4397, -0.3408],\n",
      "        [-0.5347, -0.5205]])\n"
     ]
    }
   ],
   "source": [
    "import torch\n",
    "a = torch.randn(3,5,2)\n",
    "print(a)\n",
    "# torch里的view相当于numpy里的reshape\n",
    "print(a.view(-1,2))"
   ]
  },
  {
   "cell_type": "code",
   "execution_count": 13,
   "id": "af515e88",
   "metadata": {},
   "outputs": [
    {
     "name": "stdout",
     "output_type": "stream",
     "text": [
      "[2, 3]\n",
      "[0, 0, 0, 0, 0]\n",
      "[2, 3, 0, 0, 0, 0, 0]\n"
     ]
    }
   ],
   "source": [
    "a= [2,3]\n",
    "b = a[0:5]\n",
    "print(b)\n",
    "c = [0] * 5\n",
    "print(c)\n",
    "print(b+c)"
   ]
  },
  {
   "cell_type": "code",
   "execution_count": 20,
   "id": "2d2222d0",
   "metadata": {},
   "outputs": [
    {
     "name": "stdout",
     "output_type": "stream",
     "text": [
      "defaultdict(<class 'dict'>, {})\n",
      "defaultdict(<class 'dict'>, {'a': 'xx'})\n"
     ]
    }
   ],
   "source": [
    "from collections import defaultdict\n",
    "\n",
    "tf_dict = defaultdict(dict)\n",
    "print(tf_dict)\n",
    "a = 'z'\n",
    "tf_dict['a'] = 'xx'\n",
    "print(tf_dict)\n"
   ]
  },
  {
   "cell_type": "code",
   "execution_count": 23,
   "id": "f5af1186",
   "metadata": {},
   "outputs": [
    {
     "ename": "AssertionError",
     "evalue": "",
     "output_type": "error",
     "traceback": [
      "\u001b[0;31m---------------------------------------------------------------------------\u001b[0m",
      "\u001b[0;31mAssertionError\u001b[0m                            Traceback (most recent call last)",
      "Cell \u001b[0;32mIn[23], line 1\u001b[0m\n\u001b[0;32m----> 1\u001b[0m \u001b[38;5;28;01massert\u001b[39;00m \u001b[38;5;241m1\u001b[39m\u001b[38;5;241m==\u001b[39m\u001b[38;5;241m0\u001b[39m\n",
      "\u001b[0;31mAssertionError\u001b[0m: "
     ]
    }
   ],
   "source": [
    "assert 1==0"
   ]
  }
 ],
 "metadata": {
  "kernelspec": {
   "display_name": "base",
   "language": "python",
   "name": "python3"
  },
  "language_info": {
   "codemirror_mode": {
    "name": "ipython",
    "version": 3
   },
   "file_extension": ".py",
   "mimetype": "text/x-python",
   "name": "python",
   "nbconvert_exporter": "python",
   "pygments_lexer": "ipython3",
   "version": "3.12.7"
  }
 },
 "nbformat": 4,
 "nbformat_minor": 5
}
