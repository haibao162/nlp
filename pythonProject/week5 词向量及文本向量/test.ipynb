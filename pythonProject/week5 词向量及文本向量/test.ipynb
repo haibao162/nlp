{
 "cells": [
  {
   "cell_type": "code",
   "execution_count": 41,
   "metadata": {},
   "outputs": [
    {
     "name": "stdout",
     "output_type": "stream",
     "text": [
      "dict_items([('20', [4, 6]), ('21', [2, 3]), ('22', [1, 2]), ('19', [10, 2])]) dict\n",
      "[('22', [1, 2]), ('21', [2, 3]), ('20', [4, 6]), ('19', [10, 2])]\n"
     ]
    }
   ],
   "source": [
    "from scipy.spatial import distance\n",
    "# 定义两个点\n",
    "# point1 = [1, 2]\n",
    "# point2 = [4, 6]\n",
    " \n",
    "# # 计算两点之间的欧氏距离\n",
    "# euclidean_distance = distance.euclidean(point1, point2)\n",
    "\n",
    "# 计算离质心的距离并排序\n",
    "\n",
    "point1 = [1, 2]\n",
    "point2 = [4, 6]\n",
    "dic = {\n",
    "    \"20\": [4,6],\n",
    "    \"21\": [2,3],\n",
    "    \"22\": [1,2],\n",
    "    \"19\": [10,2],\n",
    "\n",
    "}\n",
    "print(dic.items(), 'dict')\n",
    "x = sorted(dic.items(), key = lambda x: distance.euclidean(point1, x[1]))\n",
    "# x = sorted([item[1][0] for item in dic.items()])\n",
    "print(x)\n",
    "\n",
    "# my_dict = {'a': 3, 'b': 1, 'c': 2}\n",
    "# sorted_dict1 = sorted(my_dict.items(), key= lambda x: x[1])\n",
    "# print(sorted_dict1)"
   ]
  },
  {
   "cell_type": "code",
   "execution_count": 17,
   "metadata": {},
   "outputs": [
    {
     "name": "stdout",
     "output_type": "stream",
     "text": [
      "a 1\n",
      "b 2\n",
      "c 3\n",
      "19 10\n",
      "20 4\n",
      "21 2\n",
      "22 1\n"
     ]
    }
   ],
   "source": [
    "my_dict = {'a': 1, 'b': 2, 'c': 3}\n",
    "items_view = my_dict.items()\n",
    " \n",
    "# 使用for循环遍历items()方法的返回值\n",
    "for key, value in items_view:\n",
    "    print(key, value)\n",
    "\n",
    "dic = {\n",
    "    \"19\": [10,2],\n",
    "    \"20\": [4,6],\n",
    "    \"21\": [2,3],\n",
    "    \"22\": [1,2],\n",
    "}\n",
    "\n",
    "for key, value in dic.items():\n",
    "    print(key, value[0])"
   ]
  },
  {
   "cell_type": "code",
   "execution_count": 28,
   "metadata": {},
   "outputs": [
    {
     "name": "stdout",
     "output_type": "stream",
     "text": [
      "[{'value': 1}, {'value': 2}, {'value': 3}]\n",
      "[1, 2, 3]\n"
     ]
    }
   ],
   "source": [
    "items = [{'value': 3}, {'value': 1}, {'value': 2}]\n",
    " \n",
    "a = sorted(items, key=lambda x: x['value'])\n",
    "print(a)"
   ]
  },
  {
   "cell_type": "code",
   "execution_count": 42,
   "metadata": {},
   "outputs": [
    {
     "name": "stdout",
     "output_type": "stream",
     "text": [
      "[('1.5', 1), ('3', 2), ('2', 3)]\n"
     ]
    }
   ],
   "source": [
    "my_dict = {'2': 3, '1.5': 1, '3': 2}\n",
    "sorted_dict1 = sorted(my_dict.items(), key= lambda x: x[1])\n",
    "print(sorted_dict1)"
   ]
  },
  {
   "cell_type": "code",
   "execution_count": 44,
   "metadata": {},
   "outputs": [
    {
     "name": "stdout",
     "output_type": "stream",
     "text": [
      "2\n"
     ]
    }
   ],
   "source": [
    "import numpy as np\n",
    "\n",
    "p = np.array([[1,2],[3,4]])\n",
    "print(p[0][1])"
   ]
  },
  {
   "cell_type": "code",
   "execution_count": 47,
   "metadata": {},
   "outputs": [
    {
     "name": "stdout",
     "output_type": "stream",
     "text": [
      "4.123105625617661\n"
     ]
    }
   ],
   "source": [
    "import numpy as np\n",
    "X = [[1], [4]]\n",
    "print(np.linalg.norm(X))"
   ]
  },
  {
   "cell_type": "code",
   "execution_count": 55,
   "metadata": {},
   "outputs": [
    {
     "name": "stdout",
     "output_type": "stream",
     "text": [
      "<generator object Tokenizer.cut at 0x11ed822a0> te\n",
      "中国 最美 的 地方 : 湖北 的 隐匿 仙境 中国最美的地方:湖北的隐匿仙境\n",
      "['中国', '最美', '的', '地方', ':', '湖北', '的', '隐匿', '仙境'] 中国最美的地方:湖北的隐匿仙境\n",
      "['中国', '最美', '的', '地方', ':', '湖北', '的', '隐匿', '仙境'] 中国最美的地方:湖北的隐匿仙境\n"
     ]
    }
   ],
   "source": [
    "import jieba\n",
    "\n",
    "te = '中国最美的地方:湖北的隐匿仙境'\n",
    "print(jieba.cut(te), 'te')\n",
    "x = \" \".join(jieba.cut(te))\n",
    "print(x, '中国最美的地方:湖北的隐匿仙境')\n",
    "# ['中国 最美 的 地方 : 湖北 的 隐匿 仙境'] 中国最美的地方:湖北的隐匿仙境\n",
    "print(x.split(), '中国最美的地方:湖北的隐匿仙境')\n",
    "print(x.split(\" \"), '中国最美的地方:湖北的隐匿仙境')\n",
    "\n"
   ]
  }
 ],
 "metadata": {
  "kernelspec": {
   "display_name": "base",
   "language": "python",
   "name": "python3"
  },
  "language_info": {
   "codemirror_mode": {
    "name": "ipython",
    "version": 3
   },
   "file_extension": ".py",
   "mimetype": "text/x-python",
   "name": "python",
   "nbconvert_exporter": "python",
   "pygments_lexer": "ipython3",
   "version": "3.12.2"
  }
 },
 "nbformat": 4,
 "nbformat_minor": 4
}
