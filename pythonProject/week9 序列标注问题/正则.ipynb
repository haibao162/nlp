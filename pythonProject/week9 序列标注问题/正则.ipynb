{
 "cells": [
  {
   "cell_type": "code",
   "execution_count": 26,
   "id": "1a6a8d37-d791-4d72-aa50-dd821a27d77a",
   "metadata": {},
   "outputs": [
    {
     "name": "stdout",
     "output_type": "stream",
     "text": [
      "<re.Match object; span=(5, 6), match='1'>\n"
     ]
    }
   ],
   "source": [
    "import re\n",
    "\n",
    "str = \"hello1 hello2\"\n",
    "# regex = re.compile('\\d')\n",
    "result = re.findall(r'\\d', str)\n",
    "# print(result)\n",
    "pattern = r'\\d'\n",
    "result = re.match(pattern, str)\n",
    "if result:\n",
    "    print(result)\n",
    "    #只从字符串的开头进行匹配\n",
    "result = re.search(pattern, str)\n",
    "if result:\n",
    "    print(result)\n",
    "    # 在整个字符串中搜索匹配的内容，只要字符串中有匹配的部分即可\n",
    "    # 如果需要查找所有匹配项，可以使用 re.findall() 或 re.finditer()\n",
    "\n",
    "\n",
    "# print(result[0])\n",
    "# print(result[1])\n",
    "\n"
   ]
  }
 ],
 "metadata": {
  "kernelspec": {
   "display_name": "base",
   "language": "python",
   "name": "python3"
  },
  "language_info": {
   "codemirror_mode": {
    "name": "ipython",
    "version": 3
   },
   "file_extension": ".py",
   "mimetype": "text/x-python",
   "name": "python",
   "nbconvert_exporter": "python",
   "pygments_lexer": "ipython3",
   "version": "3.12.2"
  }
 },
 "nbformat": 4,
 "nbformat_minor": 5
}
