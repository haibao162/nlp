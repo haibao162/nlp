{
 "cells": [
  {
   "cell_type": "code",
   "execution_count": 14,
   "id": "1a6a8d37-d791-4d72-aa50-dd821a27d77a",
   "metadata": {},
   "outputs": [
    {
     "name": "stdout",
     "output_type": "stream",
     "text": [
      "tensor(12.)\n",
      "tensor([[ 0,  1,  2,  3],\n",
      "        [ 4,  5,  6,  7],\n",
      "        [ 8,  9, 10, 11]]) 3 tensor([[ 0,  4,  8],\n",
      "        [ 1,  5,  9],\n",
      "        [ 2,  6, 10],\n",
      "        [ 3,  7, 11]]) torch.Size([3, 4]) 4\n",
      "tensor(66)\n"
     ]
    }
   ],
   "source": [
    "import torch\n",
    "x=torch.tensor(3.0)\n",
    "y=torch.tensor(4)\n",
    "print(x*y)\n",
    "a1 = torch.arange(12).reshape(3,4)\n",
    "print(a1, len(a1), a1.T, a1.shape, a1.shape[1])\n",
    "print(a1.sum()) #全部加起来"
   ]
  },
  {
   "cell_type": "code",
   "execution_count": null,
   "id": "86ceaccc",
   "metadata": {},
   "outputs": [],
   "source": []
  },
  {
   "cell_type": "code",
   "execution_count": 4,
   "id": "2bd912cc-090a-4a11-9fd8-9aa7665fe550",
   "metadata": {},
   "outputs": [
    {
     "name": "stdout",
     "output_type": "stream",
     "text": [
      "[[1 2 3 4]\n",
      " [5 6 7 8]]\n",
      "[[ 3.1  1.3  1.2]\n",
      " [ 2.1  1.3 13. ]]\n",
      "tensor([[ 3.1000,  1.3000,  1.2000],\n",
      "        [ 2.1000,  1.3000, 13.0000]])\n"
     ]
    }
   ],
   "source": [
    "import torch\n",
    "import numpy as np\n",
    "\n",
    "x=torch.tensor([[1,2,3,4],[5,6,7,8]])\n",
    "print(x.numpy())\n",
    "\n",
    "#随便准备一个网络输入\n",
    "y = np.array([[3.1, 1.3, 1.2],\n",
    "              [2.1, 1.3, 13]])\n",
    "print(y)\n",
    "z = torch.FloatTensor(y)\n",
    "print(z)\n",
    "\n"
   ]
  },
  {
   "cell_type": "code",
   "execution_count": 11,
   "id": "5029a32d",
   "metadata": {},
   "outputs": [
    {
     "name": "stdout",
     "output_type": "stream",
     "text": [
      "tensor([[ 1.,  4.],\n",
      "        [ 9., 16.]])\n"
     ]
    }
   ],
   "source": [
    "import torch\n",
    "x = torch.Tensor([[1,2], [3,4]])\n",
    "y = torch.Tensor([[1,2], [3,4]])\n",
    "print(x * y)\n"
   ]
  },
  {
   "cell_type": "code",
   "execution_count": 7,
   "id": "cbf7d121",
   "metadata": {},
   "outputs": [
    {
     "name": "stdout",
     "output_type": "stream",
     "text": [
      "[[14 32]\n",
      " [32 77]]\n",
      "[[17 22 27]\n",
      " [22 29 36]\n",
      " [27 36 45]]\n"
     ]
    }
   ],
   "source": [
    "import numpy as np\n",
    "x = np.array([[1,2,3], \n",
    "              [4,5,6]])\n",
    "y = np.array([[1,2,3], \n",
    "              [4,5,6]])\n",
    "z = np.dot(x,y.T)\n",
    "a = np.dot(x.T,y)\n",
    "print(z)\n",
    "print(a)\n"
   ]
  },
  {
   "cell_type": "code",
   "execution_count": 10,
   "id": "2356a748-3680-4baf-ab2d-76b33bd8bab5",
   "metadata": {},
   "outputs": [
    {
     "name": "stdout",
     "output_type": "stream",
     "text": [
      "tensor([1.3499, 1.1052, 1.3499])\n",
      "[0.3547696 0.2904608 0.3547696]\n",
      "tensor([0.3548, 0.2905, 0.3548])\n"
     ]
    }
   ],
   "source": [
    "import torch\n",
    "import numpy as np\n",
    "\n",
    "x = torch.Tensor([0.3, 0.1, 0.3])\n",
    "x = x.numpy()\n",
    "y = np.exp(x) / np.sum(np.exp(x), axis = 0)\n",
    "z = torch.Tensor([np.exp(0.3), np.exp(0.1), np.exp(0.3)])\n",
    "a = np.exp(0.3) + np.exp(0.1) + np.exp(0.3)\n",
    "print(z)\n",
    "print(y)\n",
    "print(z / a)\n",
    "\n"
   ]
  },
  {
   "cell_type": "code",
   "execution_count": 12,
   "id": "d454f4e2-2a66-4087-b63b-d58e4d15ed19",
   "metadata": {},
   "outputs": [
    {
     "name": "stdout",
     "output_type": "stream",
     "text": [
      "None\n"
     ]
    }
   ],
   "source": [
    "a = None\n",
    "print(a)"
   ]
  },
  {
   "cell_type": "code",
   "execution_count": 33,
   "id": "876a5d91-34ec-44fa-8a16-969b10f90800",
   "metadata": {},
   "outputs": [
    {
     "name": "stdout",
     "output_type": "stream",
     "text": [
      "1\n",
      "2\n",
      "12\n",
      "13\n",
      "tensor(13.)\n"
     ]
    }
   ],
   "source": [
    "import torch\n",
    "a = [1]\n",
    "print(int(a[0]))\n",
    "b = [2]\n",
    "# print(zip(a,b))\n",
    "for i,j in zip(a,b):\n",
    "    print(j)\n",
    "x = torch.tensor([12])\n",
    "y = torch.FloatTensor([13])\n",
    "\n",
    "print(int(x))\n",
    "print(int(y))\n",
    "\n",
    "y = torch.FloatTensor([13,12])\n",
    "print(max(y))\n",
    "\n"
   ]
  },
  {
   "cell_type": "code",
   "execution_count": null,
   "id": "b1fd95d0",
   "metadata": {},
   "outputs": [],
   "source": []
  }
 ],
 "metadata": {
  "kernelspec": {
   "display_name": "Python 3",
   "language": "python",
   "name": "python3"
  },
  "language_info": {
   "codemirror_mode": {
    "name": "ipython",
    "version": 3
   },
   "file_extension": ".py",
   "mimetype": "text/x-python",
   "name": "python",
   "nbconvert_exporter": "python",
   "pygments_lexer": "ipython3",
   "version": "3.12.7"
  }
 },
 "nbformat": 4,
 "nbformat_minor": 5
}
