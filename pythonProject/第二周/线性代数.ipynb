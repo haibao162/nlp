{
 "cells": [
  {
   "cell_type": "code",
   "execution_count": 14,
   "id": "1a6a8d37-d791-4d72-aa50-dd821a27d77a",
   "metadata": {},
   "outputs": [
    {
     "name": "stdout",
     "output_type": "stream",
     "text": [
      "tensor(12.)\n",
      "tensor([[ 0,  1,  2,  3],\n",
      "        [ 4,  5,  6,  7],\n",
      "        [ 8,  9, 10, 11]]) 3 tensor([[ 0,  4,  8],\n",
      "        [ 1,  5,  9],\n",
      "        [ 2,  6, 10],\n",
      "        [ 3,  7, 11]]) torch.Size([3, 4]) 4\n",
      "tensor(66)\n"
     ]
    }
   ],
   "source": [
    "import torch\n",
    "x=torch.tensor(3.0)\n",
    "y=torch.tensor(4)\n",
    "print(x*y)\n",
    "a1 = torch.arange(12).reshape(3,4)\n",
    "print(a1, len(a1), a1.T, a1.shape, a1.shape[1])\n",
    "print(a1.sum()) #全部加起来"
   ]
  },
  {
   "cell_type": "code",
   "execution_count": null,
   "id": "86ceaccc",
   "metadata": {},
   "outputs": [],
   "source": []
  },
  {
   "cell_type": "code",
   "execution_count": 4,
   "id": "2bd912cc-090a-4a11-9fd8-9aa7665fe550",
   "metadata": {},
   "outputs": [
    {
     "name": "stdout",
     "output_type": "stream",
     "text": [
      "[[1 2 3 4]\n",
      " [5 6 7 8]]\n",
      "[[ 3.1  1.3  1.2]\n",
      " [ 2.1  1.3 13. ]]\n",
      "tensor([[ 3.1000,  1.3000,  1.2000],\n",
      "        [ 2.1000,  1.3000, 13.0000]])\n"
     ]
    }
   ],
   "source": [
    "import torch\n",
    "import numpy as np\n",
    "\n",
    "x=torch.tensor([[1,2,3,4],[5,6,7,8]])\n",
    "print(x.numpy())\n",
    "\n",
    "#随便准备一个网络输入\n",
    "y = np.array([[3.1, 1.3, 1.2],\n",
    "              [2.1, 1.3, 13]])\n",
    "print(y)\n",
    "z = torch.FloatTensor(y)\n",
    "print(z)\n",
    "\n"
   ]
  },
  {
   "cell_type": "code",
   "execution_count": 11,
   "id": "5029a32d",
   "metadata": {},
   "outputs": [
    {
     "name": "stdout",
     "output_type": "stream",
     "text": [
      "tensor([[ 1.,  4.],\n",
      "        [ 9., 16.]])\n"
     ]
    }
   ],
   "source": [
    "import torch\n",
    "x = torch.Tensor([[1,2], [3,4]])\n",
    "y = torch.Tensor([[1,2], [3,4]])\n",
    "print(x * y)\n"
   ]
  },
  {
   "cell_type": "code",
   "execution_count": 7,
   "id": "cbf7d121",
   "metadata": {},
   "outputs": [
    {
     "name": "stdout",
     "output_type": "stream",
     "text": [
      "[[14 32]\n",
      " [32 77]]\n",
      "[[17 22 27]\n",
      " [22 29 36]\n",
      " [27 36 45]]\n"
     ]
    }
   ],
   "source": [
    "import numpy as np\n",
    "x = np.array([[1,2,3], \n",
    "              [4,5,6]])\n",
    "y = np.array([[1,2,3], \n",
    "              [4,5,6]])\n",
    "z = np.dot(x,y.T)\n",
    "a = np.dot(x.T,y)\n",
    "print(z)\n",
    "print(a)\n"
   ]
  },
  {
   "cell_type": "code",
   "execution_count": 10,
   "id": "2356a748-3680-4baf-ab2d-76b33bd8bab5",
   "metadata": {},
   "outputs": [
    {
     "name": "stdout",
     "output_type": "stream",
     "text": [
      "tensor([1.3499, 1.1052, 1.3499])\n",
      "[0.3547696 0.2904608 0.3547696]\n",
      "tensor([0.3548, 0.2905, 0.3548])\n"
     ]
    }
   ],
   "source": [
    "import torch\n",
    "import numpy as np\n",
    "\n",
    "x = torch.Tensor([0.3, 0.1, 0.3])\n",
    "x = x.numpy()\n",
    "y = np.exp(x) / np.sum(np.exp(x), axis = 0)\n",
    "z = torch.Tensor([np.exp(0.3), np.exp(0.1), np.exp(0.3)])\n",
    "a = np.exp(0.3) + np.exp(0.1) + np.exp(0.3)\n",
    "print(z)\n",
    "print(y)\n",
    "print(z / a)\n",
    "\n"
   ]
  },
  {
   "cell_type": "code",
   "execution_count": 12,
   "id": "d454f4e2-2a66-4087-b63b-d58e4d15ed19",
   "metadata": {},
   "outputs": [
    {
     "name": "stdout",
     "output_type": "stream",
     "text": [
      "None\n"
     ]
    }
   ],
   "source": [
    "a = None\n",
    "print(a)"
   ]
  },
  {
   "cell_type": "code",
   "execution_count": 33,
   "id": "876a5d91-34ec-44fa-8a16-969b10f90800",
   "metadata": {},
   "outputs": [
    {
     "name": "stdout",
     "output_type": "stream",
     "text": [
      "1\n",
      "2\n",
      "12\n",
      "13\n",
      "tensor(13.)\n"
     ]
    }
   ],
   "source": [
    "import torch\n",
    "a = [1]\n",
    "print(int(a[0]))\n",
    "b = [2]\n",
    "# print(zip(a,b))\n",
    "for i,j in zip(a,b):\n",
    "    print(j)\n",
    "x = torch.tensor([12])\n",
    "y = torch.FloatTensor([13])\n",
    "\n",
    "print(int(x))\n",
    "print(int(y))\n",
    "\n",
    "y = torch.FloatTensor([13,12])\n",
    "print(max(y))\n",
    "\n"
   ]
  },
  {
   "cell_type": "code",
   "execution_count": 9,
   "id": "b1fd95d0",
   "metadata": {},
   "outputs": [
    {
     "name": "stdout",
     "output_type": "stream",
     "text": [
      "[0.0, 0.01, 0.02, 0.03, 0.04, 0.05, 0.06, 0.07, 0.08, 0.09, 0.1, 0.11, 0.12, 0.13, 0.14, 0.15, 0.16, 0.17, 0.18, 0.19, 0.2, 0.21, 0.22, 0.23, 0.24, 0.25, 0.26, 0.27, 0.28, 0.29, 0.3, 0.31, 0.32, 0.33, 0.34, 0.35000000000000003, 0.36, 0.37, 0.38, 0.39, 0.4, 0.41000000000000003, 0.42, 0.43, 0.44, 0.45, 0.46, 0.47000000000000003, 0.48, 0.49, 0.5, 0.51, 0.52, 0.53, 0.54, 0.55, 0.56, 0.5700000000000001, 0.58, 0.59, 0.6, 0.61, 0.62, 0.63, 0.64, 0.65, 0.66, 0.67, 0.68, 0.6900000000000001, 0.7000000000000001, 0.71, 0.72, 0.73, 0.74, 0.75, 0.76, 0.77, 0.78, 0.79, 0.8, 0.81, 0.8200000000000001, 0.8300000000000001, 0.84, 0.85, 0.86, 0.87, 0.88, 0.89, 0.9, 0.91, 0.92, 0.93, 0.9400000000000001, 0.9500000000000001, 0.96, 0.97, 0.98, 0.99]\n",
      "[1.0, 1.0099, 1.0196, 1.0291, 1.0384, 1.0475, 1.0564, 1.0651, 1.0735999999999999, 1.0819, 1.09, 1.0979, 1.1056, 1.1131, 1.1204, 1.1275, 1.1344, 1.1411, 1.1476, 1.1539, 1.16, 1.1659, 1.1716, 1.1771, 1.1824, 1.1875, 1.1924000000000001, 1.1971, 1.2016, 1.2059, 1.21, 1.2139, 1.2176, 1.2211, 1.2244, 1.2275, 1.2304, 1.2331, 1.2356, 1.2379, 1.24, 1.2419, 1.2436, 1.2451, 1.2464, 1.2475, 1.2484, 1.2490999999999999, 1.2496, 1.2499, 1.25, 1.2499, 1.2496, 1.2490999999999999, 1.2484, 1.2475, 1.2464, 1.2450999999999999, 1.2436, 1.2419, 1.24, 1.2379, 1.2356, 1.2330999999999999, 1.2304, 1.2275, 1.2244, 1.2210999999999999, 1.2176, 1.2139, 1.21, 1.2059, 1.2016, 1.1971, 1.1924000000000001, 1.1875, 1.1824, 1.1771, 1.1716, 1.1659, 1.16, 1.1539, 1.1476, 1.1411, 1.1344, 1.1275, 1.1204, 1.1131, 1.1056, 1.0979, 1.0899999999999999, 1.0819, 1.0735999999999999, 1.0651, 1.0564, 1.0474999999999999, 1.0384, 1.0291000000000001, 1.0196, 1.0099]\n"
     ]
    }
   ],
   "source": [
    "def fu(x):\n",
    "    y = - x ** 2 + x + 1\n",
    "    return y\n",
    "X = [0.01 * x for x in range(100)]\n",
    "Y = [fu(x) for x in X]\n",
    "print(X)\n",
    "print(Y)\n"
   ]
  },
  {
   "cell_type": "markdown",
   "id": "e52a0152",
   "metadata": {},
   "source": []
  }
 ],
 "metadata": {
  "kernelspec": {
   "display_name": "base",
   "language": "python",
   "name": "python3"
  },
  "language_info": {
   "codemirror_mode": {
    "name": "ipython",
    "version": 3
   },
   "file_extension": ".py",
   "mimetype": "text/x-python",
   "name": "python",
   "nbconvert_exporter": "python",
   "pygments_lexer": "ipython3",
   "version": "3.12.7"
  }
 },
 "nbformat": 4,
 "nbformat_minor": 5
}
