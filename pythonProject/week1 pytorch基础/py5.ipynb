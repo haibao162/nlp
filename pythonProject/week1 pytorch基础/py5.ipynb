{
 "cells": [
  {
   "cell_type": "code",
   "execution_count": 1,
   "id": "3abb6ebc-7ad8-4836-9eb1-998c3df44ee3",
   "metadata": {},
   "outputs": [
    {
     "name": "stdout",
     "output_type": "stream",
     "text": [
      "torch.Size([10, 3, 5])\n"
     ]
    }
   ],
   "source": [
    "import torch\n",
    "\n",
    "torch.manual_seed(0)\n",
    "\n",
    "batch1 = torch.randn(10,3,4)\n",
    "batch2 = torch.randn(10,4,5)\n",
    "\n",
    "result = torch.bmm(batch1, batch2)\n",
    "print(result.shape)\n"
   ]
  },
  {
   "cell_type": "code",
   "execution_count": 16,
   "id": "5264ee7f-36dc-44b1-bf62-a95f86910288",
   "metadata": {},
   "outputs": [
    {
     "name": "stdout",
     "output_type": "stream",
     "text": [
      "tensor([[[1., 2.],\n",
      "         [3., 4.]]])\n",
      "2\n"
     ]
    }
   ],
   "source": [
    "import torch\n",
    "\n",
    "x = torch.FloatTensor([[1,2], [3,4]])\n",
    "x = x.unsqueeze(0)\n",
    "print(x)\n",
    "y = x.size(-1)\n",
    "print(y)"
   ]
  },
  {
   "cell_type": "code",
   "execution_count": 23,
   "id": "e59d59a5",
   "metadata": {},
   "outputs": [
    {
     "name": "stdout",
     "output_type": "stream",
     "text": [
      "原始张量: tensor([ 1.5410, -0.2934, -2.1788,  0.5684, -1.0845, -1.3986,  0.4033,  0.8380,\n",
      "        -0.7193, -0.4033])\n",
      "前 3 个最大值: tensor([1.5410, 0.8380, 0.5684])\n",
      "最大值的索引: tensor([0, 7, 3])\n",
      "tensor([1.5410])\n"
     ]
    }
   ],
   "source": [
    "import torch\n",
    "\n",
    "torch.manual_seed(0)\n",
    "\n",
    "# 创建一个随机张量\n",
    "data = torch.randn(10)\n",
    "print(\"原始张量:\", data)\n",
    "\n",
    "# 获取前 3 个最大值及其索引\n",
    "k = 3\n",
    "values, indices = torch.topk(data,3)\n",
    "print(f\"前 {k} 个最大值:\", values)\n",
    "print(f\"最大值的索引:\", indices)\n",
    "\n",
    "print(data.data.topk(1))"
   ]
  },
  {
   "cell_type": "code",
   "execution_count": 1,
   "id": "5da05e14-617f-446d-b8e0-29d740475dbf",
   "metadata": {},
   "outputs": [
    {
     "name": "stdout",
     "output_type": "stream",
     "text": [
      "False\n"
     ]
    }
   ],
   "source": [
    "import torch\n",
    "\n",
    "cuda_flag = torch.cuda.is_available()\n",
    "print(cuda_flag)\n"
   ]
  },
  {
   "cell_type": "code",
   "execution_count": 1,
   "id": "f1646278-6698-451e-98fe-a4b2d1507604",
   "metadata": {},
   "outputs": [
    {
     "name": "stdout",
     "output_type": "stream",
     "text": [
      "9\n",
      "tensor([[1., 0., 0.],\n",
      "        [4., 5., 0.]])\n",
      "tensor([[[[1., 0., 0.]]],\n",
      "\n",
      "\n",
      "        [[[1., 1., 0.]]]])\n"
     ]
    }
   ],
   "source": [
    "import torch\n",
    "a = 97\n",
    "b = 10\n",
    "print(a // b)\n",
    "x = torch.FloatTensor([[1, 2, 3],\n",
    "                       [4, 5, 6]])\n",
    "mask = torch.FloatTensor([[1, 0, 0], \n",
    "                          [1, 1, 0]])\n",
    "t = torch.masked_fill(x, mask == 0, value=0)\n",
    "print(t)\n",
    "print(mask.unsqueeze(1).unsqueeze(2))"
   ]
  },
  {
   "cell_type": "code",
   "execution_count": 6,
   "id": "33f9db4d",
   "metadata": {},
   "outputs": [
    {
     "name": "stdout",
     "output_type": "stream",
     "text": [
      "torch.Size([2, 2, 3])\n",
      "tensor([[[ 0.,  3.],\n",
      "         [ 1.,  4.],\n",
      "         [ 2.,  5.]],\n",
      "\n",
      "        [[ 6.,  9.],\n",
      "         [ 7., 10.],\n",
      "         [ 8., 11.]]])\n",
      "tensor([[[ 0.,  3.],\n",
      "         [ 1.,  4.],\n",
      "         [ 2.,  5.]],\n",
      "\n",
      "        [[ 6.,  9.],\n",
      "         [ 7., 10.],\n",
      "         [ 8., 11.]]])\n"
     ]
    }
   ],
   "source": [
    "import torch\n",
    "x = torch.FloatTensor([[[ 0.,  1.,  2.],\n",
    "                        [ 3.,  4.,  5.]],\n",
    "                        [[ 6.,  7.,  8.],\n",
    "                        [ 9., 10., 11.]]])\n",
    "print(x.shape)\n",
    "a = x.transpose(-2,-1)\n",
    "print(a)\n",
    "b = x.transpose(1,2)\n",
    "print(b)\n",
    "\n",
    "\n"
   ]
  },
  {
   "cell_type": "code",
   "execution_count": 2,
   "id": "27e32ee3",
   "metadata": {},
   "outputs": [
    {
     "name": "stdout",
     "output_type": "stream",
     "text": [
      "tensor([[ 0.6614,  0.2669,  0.0617],\n",
      "        [ 0.6213, -0.4519, -0.1661]])\n",
      "tensor([[[1., 0., 0.],\n",
      "         [1., 1., 0.],\n",
      "         [1., 1., 1.]],\n",
      "\n",
      "        [[1., 0., 0.],\n",
      "         [1., 1., 0.],\n",
      "         [1., 1., 1.]]])\n"
     ]
    }
   ],
   "source": [
    "import torch\n",
    "torch.manual_seed(1)\n",
    "x = torch.randn((2,3))\n",
    "print(x)\n",
    "\n",
    "mask = torch.tril(torch.ones((x.shape[0], x.shape[1], x.shape[1])))\n",
    "print(mask)\n"
   ]
  },
  {
   "cell_type": "code",
   "execution_count": 6,
   "id": "080f46ca",
   "metadata": {},
   "outputs": [
    {
     "name": "stdout",
     "output_type": "stream",
     "text": [
      "tensor([[1.],\n",
      "        [2.],\n",
      "        [3.],\n",
      "        [4.],\n",
      "        [5.],\n",
      "        [6.],\n",
      "        [7.],\n",
      "        [8.],\n",
      "        [9.]])\n"
     ]
    }
   ],
   "source": [
    "import torch\n",
    "a = torch.FloatTensor([[1,2,3], [4,5,6],[7,8,9]])\n",
    "print(a.view(9,-1))"
   ]
  },
  {
   "cell_type": "code",
   "execution_count": 22,
   "id": "142cd1df",
   "metadata": {},
   "outputs": [
    {
     "name": "stdout",
     "output_type": "stream",
     "text": [
      "tensor([[1., 1., 1., 1., 1., 1., 1., 0., 0., 0., 0.],\n",
      "        [1., 1., 1., 1., 1., 1., 1., 0., 0., 0., 0.],\n",
      "        [1., 1., 1., 1., 1., 1., 1., 0., 0., 0., 0.],\n",
      "        [1., 1., 1., 1., 1., 1., 1., 0., 0., 0., 0.],\n",
      "        [1., 1., 1., 1., 1., 1., 1., 0., 0., 0., 0.],\n",
      "        [1., 1., 1., 1., 1., 1., 1., 0., 0., 0., 0.],\n",
      "        [1., 1., 1., 1., 1., 1., 1., 0., 0., 0., 0.],\n",
      "        [1., 1., 1., 1., 1., 1., 1., 1., 1., 1., 1.],\n",
      "        [1., 1., 1., 1., 1., 1., 1., 1., 1., 1., 1.],\n",
      "        [1., 1., 1., 1., 1., 1., 1., 1., 1., 1., 1.],\n",
      "        [1., 1., 1., 1., 1., 1., 1., 1., 1., 1., 1.]])\n"
     ]
    }
   ],
   "source": [
    "import torch\n",
    "prompt_encode = 5 + 2\n",
    "answer_encode = 3 + 1\n",
    "size = prompt_encode + answer_encode\n",
    "res = torch.ones(size, size)\n",
    "for i in range(size):\n",
    "    if i < prompt_encode:\n",
    "        res[i, prompt_encode:] = 0\n",
    "\n",
    "print(res)\n",
    "\n",
    "\n"
   ]
  },
  {
   "cell_type": "code",
   "execution_count": 21,
   "id": "e40049dd",
   "metadata": {},
   "outputs": [
    {
     "name": "stdout",
     "output_type": "stream",
     "text": [
      "tensor([[0.1000, 1.1000],\n",
      "        [2.0000, 4.0000]])\n"
     ]
    }
   ],
   "source": [
    "import torch\n",
    "a = [[0,1],[2,4]]\n",
    "b = torch.FloatTensor(a)\n",
    "b[0,:] = b[0,:] + 0.1\n",
    "print(b)"
   ]
  },
  {
   "cell_type": "markdown",
   "id": "cf97a78f",
   "metadata": {},
   "source": []
  }
 ],
 "metadata": {
  "kernelspec": {
   "display_name": "base",
   "language": "python",
   "name": "python3"
  },
  "language_info": {
   "codemirror_mode": {
    "name": "ipython",
    "version": 3
   },
   "file_extension": ".py",
   "mimetype": "text/x-python",
   "name": "python",
   "nbconvert_exporter": "python",
   "pygments_lexer": "ipython3",
   "version": "3.12.2"
  }
 },
 "nbformat": 4,
 "nbformat_minor": 5
}
