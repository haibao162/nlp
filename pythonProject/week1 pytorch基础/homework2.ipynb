{
 "cells": [
  {
   "cell_type": "code",
   "execution_count": 10,
   "id": "1a6a8d37-d791-4d72-aa50-dd821a27d77a",
   "metadata": {},
   "outputs": [
    {
     "name": "stdout",
     "output_type": "stream",
     "text": [
      "[88, 33, 31, 22, 12, 3, 2, 1]\n",
      "[23, 12, 11, 3, 1]\n",
      "[88, 33, 31, 22, 12, 3, 2, 1]\n"
     ]
    }
   ],
   "source": [
    "#冒泡1\n",
    "arr = [3,2,22,33,1,88,31,12]\n",
    "length = len(arr)\n",
    "for i in range(0, length-1):\n",
    "    for j in range(0,length-i-1):\n",
    "        if (arr[j] < arr[j+1]):\n",
    "            temp = arr[j+1]\n",
    "            arr[j+1] = arr[j]\n",
    "            arr[j] = temp\n",
    "print(arr)\n",
    "#sort函数\n",
    "print(sorted([3,11,12,1,23], reverse=True,key= lambda pair: pair))\n",
    "#冒泡2\n",
    "arr1 = [3,2,22,33,1,88,31,12]\n",
    "length1 = len(arr1)\n",
    "for i in range(0, length1-1):\n",
    "    for j in range(length1-1,i,-1):\n",
    "        if (arr1[j-1] < arr1[j]):\n",
    "            temp = arr1[j-1]\n",
    "            arr1[j-1] = arr1[j]\n",
    "            arr1[j] = temp\n",
    "print(arr1)"
   ]
  },
  {
   "cell_type": "code",
   "execution_count": 13,
   "id": "2bd912cc-090a-4a11-9fd8-9aa7665fe550",
   "metadata": {},
   "outputs": [
    {
     "name": "stdout",
     "output_type": "stream",
     "text": [
      "True\n",
      "False\n",
      "False\n",
      "True\n"
     ]
    }
   ],
   "source": [
    "#判断偶数\n",
    "def isEven(num):\n",
    "    if(num%2 == 0):\n",
    "        print(True)\n",
    "    else:\n",
    "        print(False)\n",
    "isEven(2)\n",
    "isEven(21)\n",
    "fun1 = lambda arg: True if arg%2 == 0 else False\n",
    "print(fun1(21))\n",
    "print(fun1(22))\n",
    "\n"
   ]
  },
  {
   "cell_type": "code",
   "execution_count": 21,
   "id": "2356a748-3680-4baf-ab2d-76b33bd8bab5",
   "metadata": {},
   "outputs": [
    {
     "name": "stdout",
     "output_type": "stream",
     "text": [
      "[{'name': 'ls', 'age': 19}, {'name': 'zs', 'age': 20}]\n"
     ]
    }
   ],
   "source": [
    "# 源数据：[{'name':'zs','age':20},{'name':'ls','age':19}]\n",
    "# 结果：[{'name': 'ls', 'age': 19}, {'name': 'zs', 'age': 20}]\n",
    "arr = [{'name':'zs','age':20},{'name':'ls','age':19}]\n",
    "param = 'age';\n",
    "arr1 = sorted(arr, key = lambda item: item[param])\n",
    "print(arr1)"
   ]
  },
  {
   "cell_type": "code",
   "execution_count": 4,
   "id": "d454f4e2-2a66-4087-b63b-d58e4d15ed19",
   "metadata": {},
   "outputs": [
    {
     "name": "stdout",
     "output_type": "stream",
     "text": [
      "b'3333'\n"
     ]
    }
   ],
   "source": [
    "# 文件拷贝\n",
    "f1 = open('./file3.txt', 'rb')\n",
    "f2 = open('./file4.txt', 'wb')\n",
    "content1 = f1.read()\n",
    "print(content1)\n",
    "f2.write(content1)\n",
    "f1.close()\n",
    "f2.close()\n"
   ]
  },
  {
   "cell_type": "code",
   "execution_count": 8,
   "id": "876a5d91-34ec-44fa-8a16-969b10f90800",
   "metadata": {},
   "outputs": [
    {
     "name": "stdout",
     "output_type": "stream",
     "text": [
      "b'33'\n",
      "b'3'\n",
      "b'3'\n"
     ]
    }
   ],
   "source": [
    "f1 = open('./file3.txt', 'rb')\n",
    "content1 = f1.read(2)\n",
    "print(content1)\n",
    "while True:\n",
    "    data = f1.read(1)\n",
    "    if(len(data) == 0):\n",
    "        break\n",
    "    print(data)"
   ]
  },
  {
   "cell_type": "code",
   "execution_count": 14,
   "id": "1e1910ef-5b30-4a38-9fb9-10666461304c",
   "metadata": {},
   "outputs": [],
   "source": [
    "class Book:\n",
    "    def __init__(self, name='a', price='',auther=''):\n",
    "        self.name = name\n",
    "        self.price = price\n",
    "        self.auther = auther\n",
    "    def you():\n",
    "        pass\n",
    "    def author():\n",
    "        pass\n"
   ]
  },
  {
   "cell_type": "code",
   "execution_count": 18,
   "id": "149963e2-2aec-439e-a213-abadd946af80",
   "metadata": {},
   "outputs": [
    {
     "name": "stdout",
     "output_type": "stream",
     "text": [
      "abc 123 def\n"
     ]
    }
   ],
   "source": [
    "import re\n",
    "str2 = 'abc 123 def'\n",
    "print(re.match('.*', str2).group())"
   ]
  },
  {
   "cell_type": "code",
   "execution_count": 68,
   "id": "687a5bd6-8b9e-45e5-a489-d9355133263d",
   "metadata": {},
   "outputs": [
    {
     "name": "stdout",
     "output_type": "stream",
     "text": [
      "hello 7709 789 badou 7708 789\n"
     ]
    }
   ],
   "source": [
    "import re\n",
    "str3 = 'hello 7709 badou 7708'\n",
    "a = re.compile(r'[\\d]+')\n",
    "# result = re.sub(r'([\\d]+)', '$11', str3)\n",
    "# c = re.split(a, str3)\n",
    "# d = re.findall(a, str3)\n",
    "# print(c)\n",
    "# for i in range(len(c)):\n",
    "#     print(c[i])\n",
    "\n",
    "# print(''.join(c))\n",
    "# print(d)\n",
    "\n",
    "# 交换两个数\n",
    "def pat(matched):\n",
    "    value = matched.group('val')\n",
    "    return value + ' 789'\n",
    "\n",
    "result = re.sub(r'(?P<val>\\d+)', pat, str3)\n",
    "print(result)\n"
   ]
  },
  {
   "cell_type": "code",
   "execution_count": 1,
   "id": "6587a06b-76be-495c-b473-4bb6612aa167",
   "metadata": {},
   "outputs": [
    {
     "ename": "SyntaxError",
     "evalue": "invalid non-printable character U+00A0 (824681332.py, line 5)",
     "output_type": "error",
     "traceback": [
      "\u001b[0;36m  Cell \u001b[0;32mIn[1], line 5\u001b[0;36m\u001b[0m\n\u001b[0;31m    def __init__(self):\u001b[0m\n\u001b[0m    ^\u001b[0m\n\u001b[0;31mSyntaxError\u001b[0m\u001b[0;31m:\u001b[0m invalid non-printable character U+00A0\n"
     ]
    }
   ],
   "source": [
    "import sys#退出程序\n",
    "import pygame\n",
    "\n",
    "class Settings():\n",
    "  def __init__(self):\n",
    "    self.screen_width=480\n",
    "    self.screen_height=852\n",
    "    self.bg_color = (255,192,203)\n",
    "    self.hero_speed = 2#控制飞机移速\n",
    "    \n",
    "    self.bullet_speed = 4\n",
    "    self.bullet_width = 4\n",
    "    self.bullet_height = 8\n",
    "    self.bullet_color = (0,0,128)#设置子弹属性\n",
    "    self.enemy_speed = 1\n",
    "\n",
    "class Enemy(pygame.sprite.Sprite):#创建敌人类\n",
    "  def __init__(self,screen,settings):\n",
    "    super(Enemy,self).__init__()\n",
    "    self.screen = screen\n",
    "    self.settings = settings\n",
    "    self.image = pygame.image.load(\"image/enemy1.png\")\n",
    "    self.rect = self.image.get_rect()\n",
    "    self.rect.x = 10\n",
    "    self.rect.y = 10\n",
    "    self.speed = settings.enemy_speed\n",
    "    self.y = float(self.rect.y)\n",
    "\n",
    "  def update(self):\n",
    "    self.y += self.speed\n",
    "    self.rect.y = self.y\n",
    "  \n",
    "  def blitme(self):#绘制\n",
    "    self.screen.blit(self.image,self.rect)    \n",
    "    \n",
    "class Bullet(pygame.sprite.Sprite):#继承sprite 精灵\n",
    "  def __init__(self,screen,settings,hero):\n",
    "    super(Bullet,self).__init__()#初始化父类\n",
    "    self.screen = screen\n",
    "    self.settings = settings\n",
    "\n",
    "    self.image = pygame.image.load('image/bullet1.png')#图片绘制子弹\n",
    "    self.rect = self.image.get_rect()\n",
    "    #self.rect = pygame.Rect(0,0,settings.bullet_width,settings.bullet_height)\n",
    "    self.rect.centerx = hero.rect.centerx#子弹与飞机中心保持一致\n",
    "    self.rect.y =hero.rect.y#y坐标也保持一致\n",
    "    self.y = float(hero.rect.y)#减小误差\n",
    "    self.speed = settings.bullet_speed#把自身速度保存下来\n",
    "    self.color = settings.bullet_color\n",
    "\n",
    "  def update(self):#子弹移动 子弹持续向上移动 让y坐标减少即可\n",
    "    self.y -= self.speed\n",
    "    self.rect.y = self.y\n",
    "\n",
    "  def drawme(self):#绘制方法\n",
    "    #pygame.draw.rect(self.screen,self.color,self.rect)#绘制一个矩形上去 屏幕 颜色 位置及大小\n",
    "    self.screen.blit(self.image,self.rect)\n",
    "\n",
    "class Bg():#定义一个背景类\n",
    "  def __init__(self,screen):\n",
    "    self.screen = screen\n",
    "    self.image = pygame.image.load(\"image/background.png\")\n",
    "    self.rect = self.image.get_rect()\n",
    "\n",
    "  def blitme(self):#绘制自身\n",
    "    self.screen.blit(self.image,self.rect)\n",
    "\n",
    "class Hero():#绘制飞机\n",
    "  def __init__(self,screen,settings):\n",
    "    self.screen = screen\n",
    "    self.settings = settings#控制飞机移速\n",
    "    self.image = pygame.image.load(\"image/hero1.png\")\n",
    "    self.rect = self.image.get_rect()\n",
    "    self.screen_rect = screen.get_rect()\n",
    "    #self.rect.x = self.screen_rect.width/2 - self.rect.width/2#保证居中，屏幕宽度一半减去自身宽度一半\n",
    "    self.rect.centerx = self.screen_rect.centerx#利用中心点坐标\n",
    "    self.rect.bottom = self.screen_rect.bottom#botom自身高度，位于最下方\n",
    "    self.moving_right = False#设置一个标志位，控制按键按下与抬起\n",
    "    self.moving_left = False\n",
    "    self.centerx = float(self.screen_rect.centerx)#修改误差，不让它忽略小数\n",
    "    \n",
    "  def blitme(self):#绘制自身\n",
    "    self.screen.blit(self.image,self.rect)\n",
    "\n",
    "  def update(self):#控制飞机移动\n",
    "    if self.moving_right and self.rect.right < self.screen_rect.right:#控制飞机右边不能超出屏幕边界\n",
    "      self.centerx += self.settings.hero_speed\n",
    "    if self.moving_left and self.rect.left > 0:#控制到左边距离大于0\n",
    "      self.centerx -= self.settings.hero_speed\n",
    "    self.rect.centerx = self.centerx\n",
    "\n",
    "def check_events(screen,settings,hero,bullets):#事件检测\n",
    "  for event in pygame.event.get():\n",
    "    if event.type == pygame.QUIT:\n",
    "      pygame.quit()\n",
    "      sys.exit()\n",
    "    elif event.type == pygame.KEYDOWN:#判断是否按键按下\n",
    "      if event.key == pygame.K_RIGHT:#判断是否按下方向右键\n",
    "        hero.moving_right = True\n",
    "      elif event.key == pygame.K_LEFT:\n",
    "        hero.moving_left = True\n",
    "      elif event.key == pygame.K_SPACE:\n",
    "        new_bullet = Bullet(screen,settings,hero)\n",
    "        bullets.add(new_bullet)      \n",
    "    elif event.type == pygame.KEYUP:\n",
    "      if event.key == pygame.K_RIGHT:\n",
    "        hero.moving_right = False\n",
    "      elif event.key == pygame.K_LEFT:\n",
    "        hero.moving_left = False\n",
    "\n",
    "def update_screen(bg,hero,bullets,enemys,screen):\n",
    "  bg.blitme()\n",
    "  for bullet in bullets.sprites():\n",
    "    bullet.drawme()\n",
    "  hero.blitme()\n",
    "  #enemy.blitme()\n",
    "  enemys.draw(screen)\n",
    "  pygame.display.flip()#刷新\n",
    "\n",
    "def update_bullets(bullets):\n",
    "  bullets.update()\n",
    "  for bullet in bullets.sprites():#检测子弹是否超出屏幕外,控制子弹删除\n",
    "    if bullet.rect.bottom<0:\n",
    "      bullets.remove(bullets)\n",
    "\n",
    "def update_enemys(enemys,bullets):\n",
    "  enemys.update()\n",
    "  pygame.sprite.groupcollide(bullets,enemys,True,True)#组的碰撞检测，传递两个组，True代表碰撞后是否销毁\n",
    "\n",
    "def create_enemys(enemys,screen,settings):#控制多个敌人生成\n",
    "  enemy = Enemy(screen,settings)\n",
    "  enemys.add(enemy)\n",
    "  number_enemys = screen.get_rect().width/(20+enemy.rect.width)#利用屏幕总宽度除以单个敌人所占空间得出一行最大敌人数\n",
    "  for index in range(int(number_enemys)):\n",
    "    if index==0:\n",
    "      continue#终止当前循环，继续下次循环\n",
    "    x = 10 + index * (20+enemy.rect.width)#敌人之间存在10像素间隔\n",
    "    new_enemy = Enemy(screen,settings)\n",
    "    new_enemy.rect.x = x\n",
    "    enemys.add(new_enemy)\n",
    "\n",
    "def run_game():\n",
    "  pygame.init()#创建可视化窗口5 \n",
    "  settings = Settings()\n",
    "  screen = pygame.display.set_mode((settings.screen_width,settings.screen_height))#设置窗口大小\n",
    "  bg = Bg(screen)\n",
    "  hero = Hero(screen,settings)\n",
    "  #enemy = Enemy(screen,settings)\n",
    "  bullets = pygame.sprite.Group()#管理子弹\n",
    "  enemys = pygame.sprite.Group()#管理敌人\n",
    "  create_enemys(enemys,screen,settings)\n",
    "  \n",
    "  while True:  \n",
    "    check_events(screen,settings,hero,bullets)\n",
    "    hero.update()\n",
    "    update_bullets(bullets)\n",
    "    update_enemys(enemys,bullets)\n",
    "    #print(len(bullets.sprites()))#验证删除子弹代码是否生效\n",
    "    update_screen(bg,hero,bullets,enemys,screen)\n",
    "    \n",
    "\n",
    "run_game() "
   ]
  },
  {
   "cell_type": "code",
   "execution_count": null,
   "id": "adcaadb1-cc72-4946-bc2f-8579718ff10b",
   "metadata": {},
   "outputs": [],
   "source": []
  },
  {
   "cell_type": "code",
   "execution_count": null,
   "id": "3128224e-6870-49e3-a6e5-78837d843ebe",
   "metadata": {},
   "outputs": [],
   "source": []
  },
  {
   "cell_type": "code",
   "execution_count": null,
   "id": "9e8ccb4b-6e17-4c90-9dfe-767e3e1addb1",
   "metadata": {},
   "outputs": [],
   "source": []
  }
 ],
 "metadata": {
  "kernelspec": {
   "display_name": "Python 3 (ipykernel)",
   "language": "python",
   "name": "python3"
  },
  "language_info": {
   "codemirror_mode": {
    "name": "ipython",
    "version": 3
   },
   "file_extension": ".py",
   "mimetype": "text/x-python",
   "name": "python",
   "nbconvert_exporter": "python",
   "pygments_lexer": "ipython3",
   "version": "3.12.7"
  }
 },
 "nbformat": 4,
 "nbformat_minor": 5
}
