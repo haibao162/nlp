{
 "cells": [
  {
   "cell_type": "code",
   "execution_count": 3,
   "id": "522c1c5c",
   "metadata": {},
   "outputs": [
    {
     "name": "stdout",
     "output_type": "stream",
     "text": [
      "[[11 13 15]\n",
      " [13 15 17]\n",
      " [16 17 18]]\n"
     ]
    }
   ],
   "source": [
    "import numpy as np\n",
    "\n",
    "a = np.array([[1,2,3], [3,4,5],[6,6,6]])\n",
    "b = np.array([10,11,12])\n",
    "print(a + b)"
   ]
  },
  {
   "cell_type": "code",
   "execution_count": 10,
   "id": "e183313d",
   "metadata": {},
   "outputs": [
    {
     "name": "stdout",
     "output_type": "stream",
     "text": [
      "{'a': 'xxx'}\n",
      "xxx\n"
     ]
    }
   ],
   "source": [
    "import json\n",
    " \n",
    "# 读取 JSON 文件\n",
    "with open('data.json', 'r') as f:\n",
    "    data = json.load(f)\n",
    "    print(data)\n",
    "    print(data.get('a', 'aaass'))"
   ]
  },
  {
   "cell_type": "code",
   "execution_count": 4,
   "id": "ba7dd052",
   "metadata": {},
   "outputs": [
    {
     "name": "stdout",
     "output_type": "stream",
     "text": [
      "zhangsan\n",
      "zhang san full\n",
      "zhangsan\n",
      "zhangsi\n",
      "zhang si full1\n"
     ]
    }
   ],
   "source": [
    "class Person():\n",
    "    def __init__(self, first, last):\n",
    "        self.first = first\n",
    "        self.last = last\n",
    "        self.fullname = self.first + self.last\n",
    "    def email(self):\n",
    "        return self.first + self.last\n",
    "    @property\n",
    "    def full(self):\n",
    "        return self.first + ' ' + self.last\n",
    "\n",
    "person = Person('zhang', 'san')\n",
    "print(person.fullname)\n",
    "print(person.full, 'full')\n",
    "\n",
    "person.last = 'si'\n",
    "print(person.fullname) # zhangsan\n",
    "print(person.email())\n",
    "print(person.full, 'full1')\n",
    "\n",
    "\n"
   ]
  },
  {
   "cell_type": "code",
   "execution_count": null,
   "id": "c8109d1a",
   "metadata": {},
   "outputs": [
    {
     "name": "stdout",
     "output_type": "stream",
     "text": [
      "tensor([0.6000, 0.8000])\n"
     ]
    }
   ],
   "source": [
    "import torch\n",
    "\n",
    "tensor1 = torch.FloatTensor([3,4])\n",
    "tensor1 = torch.nn.functional.normalize(tensor1, dim=-1)\n",
    "# 每个数都除以所有数的平方和开根号\n",
    "print(tensor1)\n"
   ]
  },
  {
   "cell_type": "code",
   "execution_count": 60,
   "id": "c4522484",
   "metadata": {},
   "outputs": [
    {
     "name": "stdout",
     "output_type": "stream",
     "text": [
      "tensor([True])\n",
      "tensor(2)\n",
      "tensor([1.]) bbbb\n",
      "tensor(1.) cccc\n",
      "tensor(True) dddd\n",
      "tensor(True) cccccc\n",
      "tensor([1.]) tttt\n",
      "tensor(1.)\n"
     ]
    }
   ],
   "source": [
    "import torch\n",
    "\n",
    "a = torch.tensor([2])\n",
    "print(a.gt(1))\n",
    "print(torch.sum(a))\n",
    "b = torch.FloatTensor([1])\n",
    "c = torch.sum(b)\n",
    "print(b, 'bbbb')\n",
    "print(c, 'cccc')\n",
    "d = c.gt(0)\n",
    "print(d, 'dddd')\n",
    "# c = b.diff(1)\n",
    "print(c.gt(0), 'cccccc')\n",
    "t = c[c.gt(0)]\n",
    "print(t, 'tttt') # tensor([3])\n",
    "print(torch.mean(t))"
   ]
  },
  {
   "cell_type": "code",
   "execution_count": null,
   "id": "9432612c",
   "metadata": {},
   "outputs": [
    {
     "name": "stdout",
     "output_type": "stream",
     "text": [
      "tensor([[[2., 3., 4.]],\n",
      "\n",
      "        [[3., 4., 5.]]]) torch.Size([2, 1, 3]) c\n",
      "tensor([[[2., 3., 4.],\n",
      "         [3., 4., 5.]]]) torch.Size([1, 2, 3]) c\n"
     ]
    }
   ],
   "source": [
    "import torch\n",
    "a = torch.FloatTensor([[2,3,4]])\n",
    "b = torch.FloatTensor([[3,4,5]])\n",
    "c = torch.stack((a, b))\n",
    "print(c, c.shape, 'c') # (1 + 1) * 1 * 3\n",
    "c = torch.stack((a, b), dim=1)\n",
    "print(c, c.shape, 'c') # 1 * (1 + 1) * 3\n",
    "\n",
    "\n"
   ]
  },
  {
   "cell_type": "code",
   "execution_count": 4,
   "id": "2bdf6e09",
   "metadata": {},
   "outputs": [
    {
     "name": "stdout",
     "output_type": "stream",
     "text": [
      "tensor([[1, 2, 3],\n",
      "        [4, 5, 6]])\n"
     ]
    }
   ],
   "source": [
    "import torch\n",
    "a = torch.LongTensor([1,2,3])\n",
    "b = torch.LongTensor([4,5,6])\n",
    "\n",
    "b = torch.stack([a,b], dim=0)\n",
    "print(b)"
   ]
  },
  {
   "cell_type": "code",
   "execution_count": 2,
   "id": "0f58b6b6",
   "metadata": {},
   "outputs": [
    {
     "name": "stdout",
     "output_type": "stream",
     "text": [
      "tensor([[1., 2.]])\n"
     ]
    }
   ],
   "source": [
    "import torch\n",
    "a = torch.FloatTensor([1,2])\n",
    "c = a.unsqueeze(0)\n",
    "print(c)"
   ]
  },
  {
   "cell_type": "code",
   "execution_count": 6,
   "id": "08b46531",
   "metadata": {},
   "outputs": [
    {
     "name": "stdout",
     "output_type": "stream",
     "text": [
      "torch.Size([2, 1])\n",
      "tensor([1., 2.])\n",
      "tensor([1., 2.])\n"
     ]
    }
   ],
   "source": [
    "import torch\n",
    "a = torch.FloatTensor([[1],[2]])\n",
    "print(a.shape)\n",
    "a = a.squeeze()\n",
    "print(a)\n",
    "b = torch.FloatTensor([[1,2]])\n",
    "print(b.squeeze())\n"
   ]
  }
 ],
 "metadata": {
  "kernelspec": {
   "display_name": "base",
   "language": "python",
   "name": "python3"
  },
  "language_info": {
   "codemirror_mode": {
    "name": "ipython",
    "version": 3
   },
   "file_extension": ".py",
   "mimetype": "text/x-python",
   "name": "python",
   "nbconvert_exporter": "python",
   "pygments_lexer": "ipython3",
   "version": "3.12.2"
  }
 },
 "nbformat": 4,
 "nbformat_minor": 5
}
