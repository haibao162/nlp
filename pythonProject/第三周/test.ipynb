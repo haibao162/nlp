{
 "cells": [
  {
   "cell_type": "code",
   "execution_count": 3,
   "id": "1a6a8d37-d791-4d72-aa50-dd821a27d77a",
   "metadata": {},
   "outputs": [
    {
     "name": "stdout",
     "output_type": "stream",
     "text": [
      "tensor([[ 1, 23]])\n"
     ]
    }
   ],
   "source": [
    "import torch\n",
    "a = torch.tensor([1,23])\n",
    "b = a.unsqueeze(0)\n",
    "print(b)\n",
    "# tensor([[ 1, 23]])"
   ]
  },
  {
   "cell_type": "code",
   "execution_count": 5,
   "id": "2bd912cc-090a-4a11-9fd8-9aa7665fe550",
   "metadata": {},
   "outputs": [
    {
     "name": "stdout",
     "output_type": "stream",
     "text": [
      "tensor([[0.5890, 0.0322],\n",
      "        [0.6737, 0.5767],\n",
      "        [0.8653, 0.9976]])\n"
     ]
    }
   ],
   "source": [
    "import torch\n",
    "a = torch.rand(3,2)\n",
    "print(a)"
   ]
  },
  {
   "cell_type": "code",
   "execution_count": 7,
   "id": "2356a748-3680-4baf-ab2d-76b33bd8bab5",
   "metadata": {},
   "outputs": [
    {
     "name": "stdout",
     "output_type": "stream",
     "text": [
      "tensor([[[0.1556, 0.0488, 0.6749, 0.8657, 0.3957],\n",
      "         [0.8787, 0.7067, 0.7836, 0.2523, 0.7019],\n",
      "         [0.0559, 0.4810, 0.0908, 0.0820, 0.0575],\n",
      "         [0.3082, 0.0847, 0.6945, 0.9757, 0.3815]],\n",
      "\n",
      "        [[0.1920, 0.7042, 0.1238, 0.3902, 0.3674],\n",
      "         [0.1378, 0.5853, 0.9951, 0.1558, 0.7743],\n",
      "         [0.6527, 0.3262, 0.7607, 0.2180, 0.4091],\n",
      "         [0.9657, 0.1866, 0.8723, 0.5388, 0.6810]],\n",
      "\n",
      "        [[0.4814, 0.2802, 0.5671, 0.5053, 0.5056],\n",
      "         [0.6082, 0.9166, 0.8222, 0.3504, 0.6717],\n",
      "         [0.0653, 0.3577, 0.9621, 0.9755, 0.3694],\n",
      "         [0.4177, 0.3209, 0.8680, 0.8084, 0.8840]]]) 初始化\n",
      "tensor([[[0.1556, 0.8787, 0.0559, 0.3082],\n",
      "         [0.0488, 0.7067, 0.4810, 0.0847],\n",
      "         [0.6749, 0.7836, 0.0908, 0.6945],\n",
      "         [0.8657, 0.2523, 0.0820, 0.9757],\n",
      "         [0.3957, 0.7019, 0.0575, 0.3815]],\n",
      "\n",
      "        [[0.1920, 0.1378, 0.6527, 0.9657],\n",
      "         [0.7042, 0.5853, 0.3262, 0.1866],\n",
      "         [0.1238, 0.9951, 0.7607, 0.8723],\n",
      "         [0.3902, 0.1558, 0.2180, 0.5388],\n",
      "         [0.3674, 0.7743, 0.4091, 0.6810]],\n",
      "\n",
      "        [[0.4814, 0.6082, 0.0653, 0.4177],\n",
      "         [0.2802, 0.9166, 0.3577, 0.3209],\n",
      "         [0.5671, 0.8222, 0.9621, 0.8680],\n",
      "         [0.5053, 0.3504, 0.9755, 0.8084],\n",
      "         [0.5056, 0.6717, 0.3694, 0.8840]]]) 交换后\n"
     ]
    }
   ],
   "source": [
    "import  torch\n",
    "x = torch.rand(3,4,5)\n",
    "y = x.transpose(1,2)\n",
    "print(x, '初始化')\n",
    "print(y,'交换后')\n"
   ]
  },
  {
   "cell_type": "code",
   "execution_count": 10,
   "id": "d454f4e2-2a66-4087-b63b-d58e4d15ed19",
   "metadata": {},
   "outputs": [
    {
     "name": "stdout",
     "output_type": "stream",
     "text": [
      "[[17 22 27]\n",
      " [22 29 36]\n",
      " [27 36 45]]\n"
     ]
    }
   ],
   "source": [
    "import numpy as np\n",
    "x = np.array([[1, 2, 3], [4,5,6]])\n",
    "y = np.array([[1, 2, 3], [4,5,6]])\n",
    "z = np.dot(x.T,y)\n",
    "print(z)\n"
   ]
  },
  {
   "cell_type": "code",
   "execution_count": 96,
   "id": "876a5d91-34ec-44fa-8a16-969b10f90800",
   "metadata": {},
   "outputs": [
    {
     "name": "stdout",
     "output_type": "stream",
     "text": [
      "10.0\n",
      "tensor([[1., 2., 3.],\n",
      "        [4., 5., 6.]])\n",
      "tensor([2.5000, 3.5000, 4.5000])\n",
      "tensor([2., 5.])\n",
      "tensor([5., 8., 3., 4., 5.]) x * z\n",
      "tensor([[ 1.,  4.,  9., 16., 25.],\n",
      "        [ 1.,  2.,  3.,  8., 15.]]) a * b\n",
      "tensor([[ 7.5000,  0.0800, -1.6798, -0.4088, -0.1595],\n",
      "        [-1.0000,  5.8562,  0.1637,  1.6918, -1.4342],\n",
      "        [-5.5000, -0.5200,  0.7355, -0.3707,  0.2280],\n",
      "        [-0.6532, -5.4220,  0.7806, -0.9123,  1.3656]])\n"
     ]
    }
   ],
   "source": [
    "import math\n",
    "import torch\n",
    "# print(math.exp(1))\n",
    "a  =1e1\n",
    "print(a)\n",
    "x = np.array([[1, 2, 3], [4,5,6]])\n",
    "y = torch.Tensor(x)\n",
    "print(y)\n",
    "print(torch.mean(y, axis=0))\n",
    "print(torch.mean(y, axis=1))\n",
    "x = torch.Tensor([5,4,1,1,1])\n",
    "z = torch.Tensor([1,2,3,4,5])\n",
    "t = torch.Tensor([1,2])\n",
    "a = torch.Tensor([[1,2,3,4,5]]) # 1 * 5\n",
    "b = torch.Tensor([[1,2,3,4,5], [1,1,1,2,3]]) # 1 * 5\n",
    "\n",
    "# print(y * x)\n",
    "print(x * z, 'x * z')\n",
    "print(a * b, 'a * b')\n",
    "# print(z * t, 'z * t') #报错\n",
    "a2 = torch.FloatTensor([[1.5,  0.02, -1.67979825, -0.40878469, -0.15948112],\n",
    " [-0.2,  1.46404247, 0.16369624, 1.69176915, -1.43420591],\n",
    " [-1.1, -0.13, 0.73548213, -0.37072311, 0.22804862],\n",
    " [-0.13063803, -1.35548882, 0.78061989, -0.91226135, 1.36563841]])\n",
    "print(x * a2)\n",
    "\n"
   ]
  },
  {
   "cell_type": "code",
   "execution_count": 94,
   "id": "e724c477",
   "metadata": {},
   "outputs": [
    {
     "name": "stdout",
     "output_type": "stream",
     "text": [
      "set(all) {'d', 'c', 'b', 'a'}\n",
      "{'b', 'a'}\n",
      "2\n"
     ]
    }
   ],
   "source": [
    "a = '111'\n",
    "b = 3\n",
    "c = 2\n",
    "# print(b & c) #按位与， |按位或，^按位异或\n",
    "all = 'abcd'\n",
    "ran = 'ba'\n",
    "print('set(all)',set(all))\n",
    "print(set(ran) & set(all))\n",
    "if (set()):\n",
    "    print(1)\n",
    "else:\n",
    "    print(2)"
   ]
  },
  {
   "cell_type": "code",
   "execution_count": 101,
   "id": "664a5d72",
   "metadata": {},
   "outputs": [
    {
     "name": "stdout",
     "output_type": "stream",
     "text": [
      "最大值: tensor([4., 6.])\n",
      "最大值的索引: tensor([1, 0])\n",
      "tensor(44.)\n"
     ]
    }
   ],
   "source": [
    "import torch\n",
    "x = torch.Tensor([\n",
    "    [3,4],\n",
    "    [6,5]\n",
    "])\n",
    "y = torch.Tensor([4,3,44,1])\n",
    "max_value, max_index = torch.max(x, dim=1)\n",
    "print(\"最大值:\", max_value)\n",
    "print(\"最大值的索引:\", max_index)\n",
    "print(torch.max(y))\n"
   ]
  },
  {
   "cell_type": "code",
   "execution_count": 130,
   "id": "d6859f93",
   "metadata": {},
   "outputs": [
    {
     "name": "stdout",
     "output_type": "stream",
     "text": [
      "5\n"
     ]
    }
   ],
   "source": [
    "import random\n",
    "random_number = random.randint(0, 5)\n",
    "print(random_number)"
   ]
  },
  {
   "cell_type": "code",
   "execution_count": 135,
   "id": "ee7313a7",
   "metadata": {},
   "outputs": [
    {
     "name": "stdout",
     "output_type": "stream",
     "text": [
      "{'b': 2}\n",
      "{'a': 1, 'b': 2}\n"
     ]
    }
   ],
   "source": [
    "import copy\n",
    "origin = { 'a': 1, 'b': 2}\n",
    "c = copy.deepcopy(origin)\n",
    "t = 'a'\n",
    "c.pop(t)\n",
    "print(c)\n",
    "print(origin)\n",
    "\n"
   ]
  },
  {
   "cell_type": "code",
   "execution_count": 137,
   "id": "8a5abcae",
   "metadata": {},
   "outputs": [
    {
     "name": "stdout",
     "output_type": "stream",
     "text": [
      "[[ 0.19195469  0.26557204 -0.29543218]\n",
      " [-1.2182368  -0.1580241  -0.4663215 ]]\n",
      "[[2. 3.]\n",
      " [4. 5.]]\n"
     ]
    }
   ],
   "source": [
    "import torch\n",
    "tensor = torch.randn(2, 3)\n",
    "print(tensor.numpy())\n",
    "t = torch.Tensor([[2,3], [4,5]])\n",
    "print(t.numpy())\n"
   ]
  }
 ],
 "metadata": {
  "kernelspec": {
   "display_name": "base",
   "language": "python",
   "name": "python3"
  },
  "language_info": {
   "codemirror_mode": {
    "name": "ipython",
    "version": 3
   },
   "file_extension": ".py",
   "mimetype": "text/x-python",
   "name": "python",
   "nbconvert_exporter": "python",
   "pygments_lexer": "ipython3",
   "version": "3.12.7"
  }
 },
 "nbformat": 4,
 "nbformat_minor": 5
}
