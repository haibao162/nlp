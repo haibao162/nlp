{
 "cells": [
  {
   "cell_type": "markdown",
   "metadata": {},
   "source": [
    "### - 1.定义一个列表，并按照降序排序"
   ]
  },
  {
   "cell_type": "markdown",
   "metadata": {},
   "source": [
    "### - 2.判断是否为偶数（分别用普通函数和匿名函数实现）\n",
    "\n",
    "返回值为：True or False"
   ]
  },
  {
   "cell_type": "markdown",
   "metadata": {},
   "source": [
    "### - 3.如何使用匿名函数对字典中的列表进行排序\n",
    "源数据：[{'name':'zs','age':20},{'name':'ls','age':19}]\n",
    "\n",
    "结果：[{'name': 'ls', 'age': 19}, {'name': 'zs', 'age': 20}]"
   ]
  },
  {
   "cell_type": "markdown",
   "metadata": {},
   "source": [
    "### - 4.利用Python进行文件拷贝"
   ]
  },
  {
   "cell_type": "markdown",
   "metadata": {},
   "source": [
    "### - 5.面向对象的三大特征？"
   ]
  },
  {
   "cell_type": "markdown",
   "metadata": {},
   "source": [
    "### - 6.定义类class为Book，定义__init__函数和 自定义函数举例如： you(),info()"
   ]
  },
  {
   "cell_type": "code",
   "execution_count": 5,
   "metadata": {},
   "outputs": [],
   "source": [
    "# 1）__init__中，需要默认书籍名称，价格，作者 例如name = \"爵迹\",price=\"39\",author=\"郭敬明\" \n",
    "# 2）定义实例方法you()，使用输出以下字样%s为书籍名称 \"努力学习%s图书\" \n",
    "# 3）定义实例方法info()：打印书的详细信息 \"书籍名称：%s，价格：%s，作者:%s\" \n",
    "# 4）定义一个子类，继承Book类 类名：BookZi,  BookZi中不定义任何函数, pass \n",
    "# 5）定义父类创建对象 并调用you()，__init__()方法 \n",
    "# 6）定义子类创建对象 并调用info方法"
   ]
  },
  {
   "cell_type": "markdown",
   "metadata": {},
   "source": [
    "### - 7.使用正则表达式匹配全部字符串进行输出\n",
    "源数据：abc 123 def\n",
    "\n",
    "结果：abc 123 def"
   ]
  },
  {
   "cell_type": "markdown",
   "metadata": {},
   "source": [
    "### - 8.使用正则表达式中 sub 实现获取我们匹配的字符串，然后追加指定字符\n",
    "源数据：hello 7709 badou\n",
    "\n",
    "结果：hello 7709 789 badou"
   ]
  },
  {
   "cell_type": "code",
   "execution_count": 2,
   "metadata": {},
   "outputs": [
    {
     "name": "stdout",
     "output_type": "stream",
     "text": [
      "5\n"
     ]
    }
   ],
   "source": []
  },
  {
   "cell_type": "code",
   "execution_count": null,
   "metadata": {},
   "outputs": [],
   "source": []
  },
  {
   "cell_type": "code",
   "execution_count": null,
   "metadata": {},
   "outputs": [],
   "source": []
  }
 ],
 "metadata": {
  "kernelspec": {
   "display_name": "Python 3 (ipykernel)",
   "language": "python",
   "name": "python3"
  },
  "language_info": {
   "codemirror_mode": {
    "name": "ipython",
    "version": 3
   },
   "file_extension": ".py",
   "mimetype": "text/x-python",
   "name": "python",
   "nbconvert_exporter": "python",
   "pygments_lexer": "ipython3",
   "version": "3.12.7"
  }
 },
 "nbformat": 4,
 "nbformat_minor": 4
}
