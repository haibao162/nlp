{
 "cells": [
  {
   "cell_type": "code",
   "execution_count": 1,
   "id": "d81042e9-d1fe-4e46-ac56-6acff60131f8",
   "metadata": {},
   "outputs": [
    {
     "name": "stdout",
     "output_type": "stream",
     "text": [
      "<class 'int'>\n"
     ]
    }
   ],
   "source": [
    "a=1\n",
    "print(type(a))"
   ]
  },
  {
   "cell_type": "code",
   "execution_count": 4,
   "id": "55ce7fe0-7ffd-4c5d-8a77-2d5e1e05721f",
   "metadata": {},
   "outputs": [
    {
     "name": "stdout",
     "output_type": "stream",
     "text": [
      "请输入密码1 11\n"
     ]
    },
    {
     "name": "stdout",
     "output_type": "stream",
     "text": [
      "11\n",
      "数字是：1,密码是11\n"
     ]
    }
   ],
   "source": [
    "password=input(\"请输入密码1\")\n",
    "print(password)\n",
    "print('数字是：%d,密码是%s'%(a, password))"
   ]
  },
  {
   "cell_type": "code",
   "execution_count": 17,
   "id": "2629bc3d-f3bd-40a9-9306-b61d0a1f3582",
   "metadata": {},
   "outputs": [
    {
     "name": "stdout",
     "output_type": "stream",
     "text": [
      "有车票\n"
     ]
    }
   ],
   "source": [
    "chepiao = 1\n",
    "if chepiao == 1:\n",
    "    print('有车票')\n",
    "else:\n",
    "    print('没有车票')"
   ]
  },
  {
   "cell_type": "code",
   "execution_count": 2,
   "id": "67db98eb-fdd9-4b2b-bd80-929a07c90f36",
   "metadata": {
    "scrolled": true
   },
   "outputs": [
    {
     "name": "stdout",
     "output_type": "stream",
     "text": [
      "考试等级B\n"
     ]
    }
   ],
   "source": [
    "score = 70\n",
    "if score >= 90 and score <= 100:\n",
    "    print('考试等级A')\n",
    "elif score >= 70 and score <80:\n",
    "    print('考试等级B')\n",
    "else:\n",
    "    print('考试等级C')"
   ]
  },
  {
   "cell_type": "code",
   "execution_count": 22,
   "id": "b069ccc3-c67f-4c80-809e-d286fe93b2d9",
   "metadata": {
    "jupyter": {
     "source_hidden": true
    }
   },
   "outputs": [
    {
     "name": "stdout",
     "output_type": "stream",
     "text": [
      "[1, 2, 3, 4]\n",
      "10\n"
     ]
    }
   ],
   "source": [
    "a = [1,2,3,4]\n",
    "print(a)\n",
    "sum = 0\n",
    "for i in a:\n",
    "    sum += i\n",
    "print(sum)"
   ]
  },
  {
   "cell_type": "code",
   "execution_count": 27,
   "id": "cc5779a6-dbdb-4711-a827-0730bb450f87",
   "metadata": {},
   "outputs": [
    {
     "name": "stdout",
     "output_type": "stream",
     "text": [
      "0\n",
      "2\n",
      "3\n",
      "4\n",
      "6\n",
      "7\n",
      "8\n"
     ]
    }
   ],
   "source": [
    "for i in range(10):\n",
    "    if i%4 == 1:\n",
    "        continue\n",
    "    print(i)"
   ]
  },
  {
   "cell_type": "code",
   "execution_count": 30,
   "id": "d784f791-a039-4d40-bfa8-52349b0cab76",
   "metadata": {},
   "outputs": [
    {
     "name": "stdout",
     "output_type": "stream",
     "text": [
      "h\n",
      "o\n",
      "5\n"
     ]
    }
   ],
   "source": [
    "str = 'hello'\n",
    "print(str[0])\n",
    "print(str[-1])\n",
    "print(len(str))"
   ]
  },
  {
   "cell_type": "code",
   "execution_count": 35,
   "id": "56a15cfd-b4c3-43fb-9253-d692ebaff36d",
   "metadata": {},
   "outputs": [
    {
     "name": "stdout",
     "output_type": "stream",
     "text": [
      "el\n",
      "hell\n",
      "-1\n"
     ]
    }
   ],
   "source": [
    "mystr = 'hello'\n",
    "print(mystr[1:3])\n",
    "print(mystr[:4])\n",
    "print(mystr.find('hl'))"
   ]
  },
  {
   "cell_type": "code",
   "execution_count": 47,
   "id": "3659f4e0-1839-4beb-88cc-64adb081f166",
   "metadata": {},
   "outputs": [
    {
     "name": "stdout",
     "output_type": "stream",
     "text": [
      "HELLO\n",
      "hello\n",
      "True\n",
      "True\n",
      "True\n",
      "True\n",
      "True\n"
     ]
    }
   ],
   "source": [
    "str = 'Hello'\n",
    "print(str.upper())\n",
    "print(str.lower())\n",
    "print(str.startswith('He'))\n",
    "print(str == 'Hello')\n",
    "print('123'.isdigit())\n",
    "print('a'.isalpha())\n",
    "print('a1'.isalnum())"
   ]
  },
  {
   "cell_type": "code",
   "execution_count": 49,
   "id": "0cd0b471-7c7f-420f-8d0c-3d5cad9de149",
   "metadata": {},
   "outputs": [
    {
     "name": "stdout",
     "output_type": "stream",
     "text": [
      "1\n",
      "2\n",
      "a\n",
      "s\n",
      "0 1\n",
      "1 2\n",
      "2 a\n",
      "3 s\n"
     ]
    }
   ],
   "source": [
    "str = '12as'\n",
    "for a in '12as':\n",
    "    print(a)\n",
    "for index,value in enumerate(str):\n",
    "    print(index,value)"
   ]
  },
  {
   "cell_type": "code",
   "execution_count": 2,
   "id": "29012a41-8844-4157-9f8d-caeb0ab12b41",
   "metadata": {},
   "outputs": [
    {
     "name": "stdout",
     "output_type": "stream",
     "text": [
      "[1, 1.2, 'abc', True] <class 'list'>\n",
      "4\n"
     ]
    }
   ],
   "source": [
    "str = [1,1.2, 'abc', True]\n",
    "print(str, type(str[0:3]))\n",
    "print(len(str))"
   ]
  },
  {
   "cell_type": "code",
   "execution_count": 10,
   "id": "cd8f2f09-6acc-43f1-8c70-2aaaa4a819ac",
   "metadata": {},
   "outputs": [
    {
     "name": "stdout",
     "output_type": "stream",
     "text": [
      "[3]\n",
      "3\n",
      "['a', 3]\n",
      "['a', 3, 'c', 'd', 'e']\n",
      "['aaa', 3, 'c', 'd', 'e']\n",
      "['d', 'e']\n",
      "['e']\n",
      "aaa\n",
      "3\n",
      "c\n",
      "d\n",
      "e\n"
     ]
    }
   ],
   "source": [
    "my_list = []\n",
    "my_list.append(3)\n",
    "print(my_list)\n",
    "print(my_list[0])\n",
    "my_list.insert(0,'a')\n",
    "print(my_list)\n",
    "my_list1 = ['c', 'd', 'e']\n",
    "my_list.extend(my_list1)\n",
    "print(my_list)\n",
    "my_list[0] = 'aaa'\n",
    "print(my_list)\n",
    "my_list1.remove('c')\n",
    "print(my_list1)\n",
    "del my_list1[0]\n",
    "print(my_list1)\n",
    "my_list1.clear()\n",
    "for v in my_list:\n",
    "    print(v)"
   ]
  },
  {
   "cell_type": "code",
   "execution_count": 13,
   "id": "349c0d91-74c1-4860-bf16-f4baf9c8c494",
   "metadata": {},
   "outputs": [
    {
     "name": "stdout",
     "output_type": "stream",
     "text": [
      "True\n",
      "True\n",
      "[33, 44, [55]]\n"
     ]
    }
   ],
   "source": [
    "my_list = [33,44]\n",
    "my_list1 = [55]\n",
    "print(33 in my_list)\n",
    "print(3 not in my_list)\n",
    "my_list.append(my_list1)\n",
    "print(my_list)"
   ]
  },
  {
   "cell_type": "code",
   "execution_count": 1,
   "id": "f623664a-ceea-4dea-b808-138074c9e823",
   "metadata": {},
   "outputs": [
    {
     "name": "stdout",
     "output_type": "stream",
     "text": [
      "(1, 2) <class 'tuple'>\n",
      "2 <class 'int'>\n",
      "(1, 2, [22233, 4])\n",
      "<class 'int'>\n",
      "<class 'tuple'>\n"
     ]
    }
   ],
   "source": [
    "#元组不能直接修改,del会报错。可以修改嵌套的\n",
    "my_tuple = (1,2)\n",
    "print(my_tuple, type(my_tuple))\n",
    "print(my_tuple[1], type(my_tuple[0]))\n",
    "my_tuple1 = (1,2, [3,4])\n",
    "my_tuple1[2][0] = 22233\n",
    "print(my_tuple1)\n",
    "tuple2 = (33)\n",
    "print(type(tuple2))\n",
    "tuple3 = (33,)\n",
    "print(type(tuple3))\n"
   ]
  },
  {
   "cell_type": "code",
   "execution_count": 3,
   "id": "9e4907c0-9040-4427-985a-5815e0bfc1d9",
   "metadata": {},
   "outputs": [
    {
     "name": "stdout",
     "output_type": "stream",
     "text": [
      "1 2\n",
      "22\n"
     ]
    }
   ],
   "source": [
    "a = 1\n",
    "b = 2\n",
    "print('{} {}'.format(a,b))\n",
    "e = '22'\n",
    "print(f'{e}')"
   ]
  },
  {
   "cell_type": "code",
   "execution_count": 16,
   "id": "a1a02d59-d706-4354-a523-fc55e1df639b",
   "metadata": {},
   "outputs": [
    {
     "name": "stdout",
     "output_type": "stream",
     "text": [
      "Name: Alice      Age: 25\n",
      "25.00\n",
      "Name: Bob        Age: 30\n",
      "30.00\n",
      "Name: Charlie    Age: 35\n",
      "35.00\n"
     ]
    }
   ],
   "source": [
    "data = [\n",
    "    [\"Alice\", 25],\n",
    "    [\"Bob\", 30],\n",
    "    [\"Charlie\", 35]\n",
    "]\n",
    "# 输出数据\n",
    "for row in data:\n",
    "    # -10用来对齐\n",
    "    print(\"Name: %-10s Age: %d\" % (row[0], row[1]))\n",
    "    print(f\"{row[1]:.2f}\")"
   ]
  },
  {
   "cell_type": "code",
   "execution_count": 5,
   "id": "3f9a4faf",
   "metadata": {},
   "outputs": [
    {
     "name": "stdout",
     "output_type": "stream",
     "text": [
      "(1, 2, 4) <class 'tuple'>\n"
     ]
    }
   ],
   "source": [
    "def a():\n",
    "    return (1,2,4)\n",
    "    # return 1,2\n",
    "x = a()\n",
    "print(x, type(x))"
   ]
  }
 ],
 "metadata": {
  "kernelspec": {
   "display_name": "Python 3",
   "language": "python",
   "name": "python3"
  },
  "language_info": {
   "codemirror_mode": {
    "name": "ipython",
    "version": 3
   },
   "file_extension": ".py",
   "mimetype": "text/x-python",
   "name": "python",
   "nbconvert_exporter": "python",
   "pygments_lexer": "ipython3",
   "version": "3.12.7"
  }
 },
 "nbformat": 4,
 "nbformat_minor": 5
}
