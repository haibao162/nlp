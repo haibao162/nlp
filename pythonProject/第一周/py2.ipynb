{
 "cells": [
  {
   "cell_type": "code",
   "execution_count": 3,
   "id": "a0567bb6-9ca1-496f-afb6-955d17171a42",
   "metadata": {},
   "outputs": [
    {
     "name": "stdout",
     "output_type": "stream",
     "text": [
      "yjx\n",
      "{'name': 'yjx', 'age': 18}\n",
      "{}\n"
     ]
    }
   ],
   "source": [
    "# 字典\n",
    "mydict={'name': 'yjx'}\n",
    "print(mydict['name'])\n",
    "mydict['age']=18\n",
    "print(mydict)\n",
    "mydict.clear()\n",
    "print(mydict)"
   ]
  },
  {
   "cell_type": "code",
   "execution_count": 34,
   "id": "3927d253-5838-49bc-88dc-a739031cf62e",
   "metadata": {},
   "outputs": [
    {
     "name": "stdout",
     "output_type": "stream",
     "text": [
      "{'a': 12, 'b': 22} 12\n",
      "True\n",
      "dict_keys(['a', 'b'])\n",
      "dict_values([12, 22]) <class 'dict_values'>\n",
      "dict_items([('a', 12), ('b', 22)])\n",
      "a\n",
      "b\n",
      "a 12\n",
      "b 22\n"
     ]
    }
   ],
   "source": [
    "mydict={'name': 'yjx', 'a':12,'b':22}\n",
    "mydict.pop('name')\n",
    "print(mydict,mydict.get('a'))\n",
    "print('a' in mydict)\n",
    "print(mydict.keys())\n",
    "print(mydict.values(), type(mydict.values()))\n",
    "print(mydict.items())\n",
    "for key in mydict.keys():\n",
    "    print(key)\n",
    "for key,value in mydict.items():\n",
    "    print(key,value)"
   ]
  },
  {
   "cell_type": "code",
   "execution_count": 3,
   "id": "021c4c1d-f17e-4391-b01e-6df90c26e832",
   "metadata": {},
   "outputs": [
    {
     "name": "stdout",
     "output_type": "stream",
     "text": [
      "{1, 5, 7}\n",
      "1\n",
      "5\n",
      "7\n"
     ]
    }
   ],
   "source": [
    "# 集合，不能重复\n",
    "my_set = {1,5,7}\n",
    "print(my_set)\n",
    "for value in my_set:\n",
    "    print(value)"
   ]
  },
  {
   "cell_type": "code",
   "execution_count": 5,
   "id": "95bc2e39-417b-4bc9-ad37-0b05769bbe46",
   "metadata": {},
   "outputs": [
    {
     "name": "stdout",
     "output_type": "stream",
     "text": [
      "<class 'set'>\n",
      "[1, 2, 3, 4]\n"
     ]
    }
   ],
   "source": [
    "my_list=[2,2,4,1,3,4,4]\n",
    "print(set)\n",
    "my_set = set(my_list)\n",
    "mylist1 = list(my_set)\n",
    "print(mylist1)"
   ]
  },
  {
   "cell_type": "code",
   "execution_count": 11,
   "id": "bfa9c3ff-2ee0-4417-b532-72538cdf016a",
   "metadata": {},
   "outputs": [
    {
     "name": "stdout",
     "output_type": "stream",
     "text": [
      "5\n"
     ]
    }
   ],
   "source": [
    "# 函数\n",
    "# def 函数名(参数):\n",
    "def add(a,b=4):\n",
    "    print(a+b)\n",
    "add(1)"
   ]
  },
  {
   "cell_type": "code",
   "execution_count": 12,
   "id": "013d8d16-87de-437e-8d5d-0bedce612280",
   "metadata": {},
   "outputs": [
    {
     "name": "stdout",
     "output_type": "stream",
     "text": [
      "(1, 2, 3) <class 'tuple'>\n"
     ]
    }
   ],
   "source": [
    "#不定长必选参数\n",
    "def sum(*args):\n",
    "    print(args, type(args))\n",
    "sum(1,2,3)"
   ]
  },
  {
   "cell_type": "code",
   "execution_count": 13,
   "id": "c3dc8d5f-9891-4eff-8d7a-79a90cdc9677",
   "metadata": {},
   "outputs": [
    {
     "name": "stdout",
     "output_type": "stream",
     "text": [
      "{'num1': 2, 'num4': 5} <class 'dict'>\n"
     ]
    }
   ],
   "source": [
    "#不定长关键字参数\n",
    "def num(**kargs):\n",
    "    print(kargs, type(kargs))\n",
    "num(num1=2,num4=5)"
   ]
  },
  {
   "cell_type": "code",
   "execution_count": 14,
   "id": "699c285e-fc58-4d9f-bd29-22a09fbb16b2",
   "metadata": {},
   "outputs": [
    {
     "name": "stdout",
     "output_type": "stream",
     "text": [
      "{'a': 1, 'b': 2}\n"
     ]
    }
   ],
   "source": [
    "def show(**args):\n",
    "    print(args)\n",
    "def num(**args):\n",
    "    show(**args)\n",
    "num(a=1,b=2)"
   ]
  },
  {
   "cell_type": "code",
   "execution_count": 17,
   "id": "cb387395-6def-47a0-a603-b9c039a9edd9",
   "metadata": {},
   "outputs": [
    {
     "name": "stdout",
     "output_type": "stream",
     "text": [
      "10\n",
      "9\n",
      "8\n",
      "7\n",
      "6\n",
      "5\n",
      "4\n",
      "3\n",
      "2\n",
      "1\n"
     ]
    }
   ],
   "source": [
    "def show(num):\n",
    "    if(num <=0):\n",
    "        return\n",
    "    print(num)\n",
    "    show(num-1)\n",
    "show(10)"
   ]
  },
  {
   "cell_type": "code",
   "execution_count": 21,
   "id": "92a056dd-6215-4f4d-9164-c2ab151d90b4",
   "metadata": {},
   "outputs": [
    {
     "name": "stdout",
     "output_type": "stream",
     "text": [
      "120\n",
      "2\n",
      "6\n"
     ]
    }
   ],
   "source": [
    "#计算阶乘\n",
    "def cheng(num):\n",
    "    if(num == 1):\n",
    "        return 1\n",
    "    else:\n",
    "        return num * cheng(num-1)\n",
    "print(cheng(5))\n",
    "print(cheng(2))\n",
    "print(cheng(3))\n"
   ]
  },
  {
   "cell_type": "code",
   "execution_count": 32,
   "id": "646c91bc-dc19-4312-8126-4ff458a20b5c",
   "metadata": {},
   "outputs": [
    {
     "name": "stdout",
     "output_type": "stream",
     "text": [
      "100\n",
      "<function show at 0x1114fc4a0>\n"
     ]
    }
   ],
   "source": [
    "#局部变量定义：函数定义在作用域内的变量.全局变量使用NUM,g_num\n",
    "num = 200\n",
    "def show():\n",
    "    num=100\n",
    "    print(num)\n",
    "show()\n",
    "print(show)"
   ]
  },
  {
   "cell_type": "code",
   "execution_count": 28,
   "id": "3145c33a-5040-415e-a21c-72ff3c732ad4",
   "metadata": {},
   "outputs": [
    {
     "name": "stdout",
     "output_type": "stream",
     "text": [
      "10\n",
      "5\n"
     ]
    }
   ],
   "source": [
    "num=10\n",
    "def show():\n",
    "    global num\n",
    "    num = 5\n",
    "print(num)\n",
    "show()\n",
    "print(num)"
   ]
  },
  {
   "cell_type": "code",
   "execution_count": 29,
   "id": "3eab061a-9ade-428b-8f1a-82a5f108cb1a",
   "metadata": {},
   "outputs": [
    {
     "name": "stdout",
     "output_type": "stream",
     "text": [
      "6\n"
     ]
    }
   ],
   "source": [
    "a,b,c=1,2,3\n",
    "# 匿名函数\n",
    "result = (lambda a,b,c: a+b+c)(1,2,3)\n",
    "print(result)"
   ]
  },
  {
   "cell_type": "code",
   "execution_count": 31,
   "id": "0dff86d8-c27a-445a-8fd1-1a76c43990c5",
   "metadata": {},
   "outputs": [
    {
     "name": "stdout",
     "output_type": "stream",
     "text": [
      "6 <function <lambda> at 0x1114fc040>\n"
     ]
    }
   ],
   "source": [
    "s = lambda a,b,c: a+b+c\n",
    "print(s(1,2,3),s)"
   ]
  },
  {
   "cell_type": "code",
   "execution_count": 7,
   "id": "2686fdd3-64a4-4dae-ae2f-857157cce167",
   "metadata": {},
   "outputs": [
    {
     "name": "stdout",
     "output_type": "stream",
     "text": [
      "china\n",
      "函数 china yjx <class 'bool'>\n",
      "<class 'object'>\n",
      "(<class 'object'>,)\n",
      "<class '__main__.Teacher'>\n",
      "(<class 'object'>,)\n",
      "aaa\n",
      "xxx\n",
      "c1\n"
     ]
    }
   ],
   "source": [
    "#面向对象，将对象作为程序的基本单元\n",
    "#面向过程:一系列函数，将功能组合在一起.\n",
    "#类，一类事物如水果。对象:类里面具体的对象如苹果桔子。对象有属性和方法:大小，颜色，尺寸，或者是行为即方法。\n",
    "#一个类里有多个对象\n",
    "#面向对象三大特征：封装，继承，多态\n",
    "class Teacher(object):\n",
    "    country = 'china'\n",
    "    def show(self, name):\n",
    "        print('函数', self.country, name, type(True))\n",
    "teacher = Teacher()\n",
    "print(teacher.country)\n",
    "teacher.show('yjx')\n",
    "print(Teacher.__base__) #继承的第一个父类\n",
    "print(Teacher.__bases__) #继承的所有父类,\n",
    "print(teacher.__class__)\n",
    "print(teacher.__class__.__bases__)\n",
    "teacher.country = 'aaa'\n",
    "teacher.name = 'xxx'\n",
    "print(teacher.country)\n",
    "print(teacher.name)\n",
    "class Cat(object):\n",
    "    def eat(self):\n",
    "        pass\n",
    "        print(self.name)\n",
    "c1 = Cat()\n",
    "c1.name = 'c1'\n",
    "c1.eat()\n"
   ]
  },
  {
   "cell_type": "code",
   "execution_count": 4,
   "id": "5a960836-990b-4ef8-bc07-bf6a2630aff7",
   "metadata": {},
   "outputs": [
    {
     "name": "stdout",
     "output_type": "stream",
     "text": [
      "yjx 20\n"
     ]
    }
   ],
   "source": [
    "# __init__()  __new__用于创建对象实例，是静态方法。__init__是实例方法，同于初始化创建好的对象实例。\n",
    "class Teacher(object):\n",
    "    def __init__(self, name, age):\n",
    "        self.name = name\n",
    "        self.age = age\n",
    "    def show(self):\n",
    "        print(self.name,self.age)\n",
    "t1 = Teacher('yjx', 20)\n",
    "t1.show()"
   ]
  },
  {
   "cell_type": "code",
   "execution_count": 14,
   "id": "cc582129-f6ff-429a-a5f9-dc468af9cacb",
   "metadata": {},
   "outputs": [
    {
     "name": "stdout",
     "output_type": "stream",
     "text": [
      "zz 17\n",
      "zz 17\n"
     ]
    }
   ],
   "source": [
    "#继承：描述多个类之间的关系\n",
    "#类A里的属性和方法被类B继承。继承可以单继承和多继承\n",
    "#父类\n",
    "class Person(object):\n",
    "    def __init__(self, name, age):\n",
    "        self.name = name\n",
    "        self.age = age\n",
    "    def show(self):\n",
    "        print(self.name,self.age)\n",
    "    def show2(self):\n",
    "        print(self.name,self.age)\n",
    "#子类\n",
    "class Student(Person):\n",
    "    pass\n",
    "stu = Student('zz',17)\n",
    "print(stu.name, stu.age)\n",
    "stu.show()\n"
   ]
  },
  {
   "cell_type": "code",
   "execution_count": 10,
   "id": "e4d3b0b4-c72c-4d87-ab03-1e0072ae0dbd",
   "metadata": {},
   "outputs": [
    {
     "name": "stdout",
     "output_type": "stream",
     "text": [
      "A类\n",
      "[<class '__main__.C'>, <class '__main__.A'>, <class '__main__.B'>, <class 'object'>]\n"
     ]
    }
   ],
   "source": [
    "class A(object):\n",
    "    def show(self):\n",
    "        print('A类')\n",
    "class B(object):\n",
    "    def show(self):\n",
    "        print('B类')\n",
    "class C(A,B):\n",
    "    pass\n",
    "c = C()\n",
    "c.show()\n",
    "print(C.mro())"
   ]
  },
  {
   "cell_type": "code",
   "execution_count": 10,
   "id": "b10e7bd8-e129-404d-a1c9-0bddca2532ac",
   "metadata": {},
   "outputs": [
    {
     "name": "stdout",
     "output_type": "stream",
     "text": [
      "输出 zz 17 xxx\n",
      "zz 17 xxx\n",
      "2001\n"
     ]
    }
   ],
   "source": [
    "#重写：对父类方法重写，继承，方法名相同\n",
    "class Person(object):\n",
    "    def __init__(self, name, age):\n",
    "        self.name = name\n",
    "        self.age = age\n",
    "        self.own = name\n",
    "        # print('person', name, age)\n",
    "    def show(self):\n",
    "        print(self.name,self.age, self.own)\n",
    "    def show2(self):\n",
    "        print(self.name,self.age)\n",
    "#子类\n",
    "class Student(Person):\n",
    "    def __init__(self, name, age, year):\n",
    "        Person.__init__(self,'xxx', 123)\n",
    "        self.name = name\n",
    "        self.age = age\n",
    "        self.year = year\n",
    "    def show2(self):\n",
    "        print(self.year)\n",
    "    pass\n",
    "# stu = Student('zz',17)\n",
    "stu = Student('zz',17, 2001)\n",
    "print('输出', stu.name, stu.age, stu.own)\n",
    "stu.show()\n",
    "stu.show2()"
   ]
  },
  {
   "cell_type": "code",
   "execution_count": 20,
   "id": "153b9cf4-d979-46d8-a7a3-d0c379c2a1a5",
   "metadata": {},
   "outputs": [
    {
     "name": "stdout",
     "output_type": "stream",
     "text": [
      "show: zz 17\n",
      "2001\n",
      "2001\n"
     ]
    }
   ],
   "source": [
    "#私有属性\n",
    "class Person(object):\n",
    "    def __init__(self, name, age):\n",
    "        self.name = name\n",
    "        self.age = age\n",
    "    def show(self):\n",
    "        print('show:',self.name,self.age)\n",
    "#子类\n",
    "class Student(Person):\n",
    "    def __init__(self, name, age, year):\n",
    "        self.name = name\n",
    "        self.age = age\n",
    "        self.__year = year\n",
    "    def show2(self):\n",
    "        print(self.__year)\n",
    "    pass\n",
    "# stu = Student('zz',17)\n",
    "stu = Student('zz',17, 2001)\n",
    "stu.show()\n",
    "stu.show2()\n",
    "# print(stu.__year)\n",
    "stu.__year = 2024\n",
    "stu.show2()"
   ]
  },
  {
   "cell_type": "code",
   "execution_count": 21,
   "id": "0796dad6-2aa7-42ec-ad6b-d2dd3d455f5e",
   "metadata": {},
   "outputs": [
    {
     "name": "stdout",
     "output_type": "stream",
     "text": [
      "Dog run\n",
      "Cat run\n"
     ]
    }
   ],
   "source": [
    "#多态：继承，重写父类方法\n",
    "class Animal(object):\n",
    "    def run(self):\n",
    "        print('Animal run')\n",
    "class Dog(Animal):\n",
    "    def run(self):\n",
    "        print('Dog run')\n",
    "class Cat(Animal):\n",
    "    def run(self):\n",
    "        print('Cat run')\n",
    "dog = Dog()\n",
    "cat = Cat()\n",
    "dog.run()\n",
    "cat.run()"
   ]
  },
  {
   "cell_type": "code",
   "execution_count": 25,
   "id": "3f49f291-4f09-4ab3-a227-e8dbc9665d06",
   "metadata": {},
   "outputs": [
    {
     "name": "stdout",
     "output_type": "stream",
     "text": [
      "11111 name 'num' is not defined\n",
      "不影响下面代码执行\n"
     ]
    }
   ],
   "source": [
    "#异常：程序运行出错\n",
    "# print(num)\n",
    "try:\n",
    "    print(num)\n",
    "except NameError as e:\n",
    "    print('11111',e)\n",
    "print('不影响下面代码执行')"
   ]
  },
  {
   "cell_type": "code",
   "execution_count": null,
   "id": "dd6e8627-be66-4105-bb2b-0f7fa527b834",
   "metadata": {},
   "outputs": [
    {
     "name": "stdout",
     "output_type": "stream",
     "text": [
      "请输入数字: 1\n"
     ]
    },
    {
     "name": "stdout",
     "output_type": "stream",
     "text": [
      "else\n",
      "finally\n"
     ]
    },
    {
     "name": "stdout",
     "output_type": "stream",
     "text": [
      "请输入数字: w\n"
     ]
    },
    {
     "name": "stdout",
     "output_type": "stream",
     "text": [
      "invalid literal for int() with base 10: 'w'\n",
      "finally\n"
     ]
    },
    {
     "name": "stdout",
     "output_type": "stream",
     "text": [
      "请输入数字: 3\n"
     ]
    },
    {
     "name": "stdout",
     "output_type": "stream",
     "text": [
      "else\n",
      "finally\n"
     ]
    },
    {
     "name": "stdout",
     "output_type": "stream",
     "text": [
      "请输入数字: \n"
     ]
    },
    {
     "name": "stdout",
     "output_type": "stream",
     "text": [
      "invalid literal for int() with base 10: ''\n",
      "finally\n"
     ]
    }
   ],
   "source": [
    "count = 0\n",
    "while count < 5:\n",
    "    my_str = input('请输入数字:')\n",
    "    try:\n",
    "        num = int(my_str) + 1\n",
    "    except Exception as e:\n",
    "        print(e)\n",
    "    else:\n",
    "        print('else')\n",
    "    finally:\n",
    "        print('finally')"
   ]
  },
  {
   "cell_type": "code",
   "execution_count": 3,
   "id": "e195fba6-8580-4d48-bdfa-293821f71ef7",
   "metadata": {},
   "outputs": [
    {
     "name": "stdout",
     "output_type": "stream",
     "text": [
      "123\n"
     ]
    }
   ],
   "source": [
    "#模块:\n",
    "import time\n",
    "import random\n",
    "time.sleep(2)\n",
    "print('123')\n",
    "# help('modules')"
   ]
  },
  {
   "cell_type": "code",
   "execution_count": 2,
   "id": "48d0e90f-97d4-41a8-9224-059e75d623a7",
   "metadata": {},
   "outputs": [
    {
     "name": "stdout",
     "output_type": "stream",
     "text": [
      "100011133\n",
      "hanshu1111qq\n",
      "111 2233\n"
     ]
    }
   ],
   "source": [
    "import first_module\n",
    "print(first_module.g_num)\n",
    "first_module.show1()\n",
    "a = first_module.Student(111,2233)\n",
    "a.show_msg()"
   ]
  },
  {
   "cell_type": "code",
   "execution_count": 4,
   "id": "688f00a5-42b4-448a-b440-bf60c5d0dff6",
   "metadata": {},
   "outputs": [
    {
     "name": "stdout",
     "output_type": "stream",
     "text": [
      "hello\n",
      "hanshu1111qq\n"
     ]
    }
   ],
   "source": [
    "from first_module import show1 as show2\n",
    "def show1():\n",
    "    print('hello')\n",
    "show1()\n",
    "show2()"
   ]
  },
  {
   "cell_type": "code",
   "execution_count": 6,
   "id": "c2aeb570-641a-483f-baf5-a573ea6a185b",
   "metadata": {},
   "outputs": [],
   "source": [
    "# 文件读写\n",
    "# r只读文件不存在异常。w只写，覆盖内容，文件不存在会创建文件。a追加写。b表示二进制,rb为读取二进制数据。\n",
    "f = open('./file2.txt', 'w', encoding='utf-8')\n",
    "f.write('test2222');\n",
    "f.write('aaaaaa'); # test2222aaaaaa，文件打开以后多次写入数据不会覆盖之前数据\n",
    "f.close();"
   ]
  },
  {
   "cell_type": "code",
   "execution_count": 5,
   "id": "75e3ce0c-ec16-4982-9155-f0bd7c53b308",
   "metadata": {},
   "outputs": [],
   "source": [
    "f1 = open('./file2.txt', 'a', encoding='utf-8')\n",
    "f1.write('追加');\n",
    "f1.close();"
   ]
  },
  {
   "cell_type": "code",
   "execution_count": 7,
   "id": "5b31fa6a-1043-4181-88f3-526be091bbf8",
   "metadata": {},
   "outputs": [
    {
     "name": "stdout",
     "output_type": "stream",
     "text": [
      "test2222aaaaaa\n"
     ]
    }
   ],
   "source": [
    "f3 = open('./file2.txt', 'r', encoding='utf-8')\n",
    "content = f3.read()\n",
    "print(content)\n",
    "f3.close()\n"
   ]
  },
  {
   "cell_type": "code",
   "execution_count": 6,
   "id": "5165b49d-bede-431a-a025-d8176e194fb2",
   "metadata": {},
   "outputs": [
    {
     "name": "stdout",
     "output_type": "stream",
     "text": [
      "<class 'bytes'>\n",
      "b'test2222aa'\n",
      "test2222aa\n"
     ]
    }
   ],
   "source": [
    "#rb模式 二进制读取。该模式不要加encoding参数\n",
    "f3 = open('./file2.txt', 'rb')\n",
    "content = f3.read()\n",
    "print(type(content))\n",
    "print(content)\n",
    "print(content.decode('utf-8'))\n",
    "\n",
    "\n",
    "# bytes转str\n",
    "f3.close()\n",
    "\n"
   ]
  },
  {
   "cell_type": "code",
   "execution_count": null,
   "id": "6271523e-d298-428d-b093-d83903e144db",
   "metadata": {},
   "outputs": [],
   "source": []
  },
  {
   "cell_type": "code",
   "execution_count": null,
   "id": "009acd4b-11e8-4b82-81eb-782d30f7234b",
   "metadata": {},
   "outputs": [],
   "source": []
  }
 ],
 "metadata": {
  "kernelspec": {
   "display_name": "Python 3",
   "language": "python",
   "name": "python3"
  },
  "language_info": {
   "codemirror_mode": {
    "name": "ipython",
    "version": 3
   },
   "file_extension": ".py",
   "mimetype": "text/x-python",
   "name": "python",
   "nbconvert_exporter": "python",
   "pygments_lexer": "ipython3",
   "version": "3.12.7"
  }
 },
 "nbformat": 4,
 "nbformat_minor": 5
}
