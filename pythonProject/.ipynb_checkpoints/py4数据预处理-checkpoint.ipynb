{
 "cells": [
  {
   "cell_type": "code",
   "execution_count": 1,
   "id": "3abb6ebc-7ad8-4836-9eb1-998c3df44ee3",
   "metadata": {},
   "outputs": [
    {
     "name": "stdout",
     "output_type": "stream",
     "text": [
      "<_io.TextIOWrapper name='../data/house_tiny.csv' mode='w' encoding='UTF-8'>\n"
     ]
    }
   ],
   "source": [
    "import os\n",
    "\n",
    "os.makedirs(os.path.join('..', 'data'), exist_ok=True)\n",
    "data_file = os.path.join('..', 'data', 'house_tiny.csv')\n",
    "f = open(data_file, 'w');\n",
    "print(f)\n",
    "f.write('NumRooms,Alley,Price\\n')  # 列名\n",
    "f.write('NA,Pave,127500\\n')  # 每行表示一个数据样本\n",
    "f.write('2,NA,106000\\n')\n",
    "f.write('4,NA,178100\\n')\n",
    "f.write('NA,NA,140000\\n')\n",
    "f.close()\n"
   ]
  },
  {
   "cell_type": "code",
   "execution_count": 8,
   "id": "5264ee7f-36dc-44b1-bf62-a95f86910288",
   "metadata": {},
   "outputs": [
    {
     "name": "stdout",
     "output_type": "stream",
     "text": [
      "   NumRooms Alley   Price\n",
      "0       NaN  Pave  127500\n",
      "1       2.0   NaN  106000\n",
      "2       4.0   NaN  178100\n",
      "3       NaN   NaN  140000\n"
     ]
    }
   ],
   "source": [
    "import pandas as pd\n",
    "data = pd.read_csv('../data/house_tiny.csv')\n",
    "print(data)"
   ]
  },
  {
   "cell_type": "code",
   "execution_count": 22,
   "id": "5da05e14-617f-446d-b8e0-29d740475dbf",
   "metadata": {},
   "outputs": [
    {
     "name": "stdout",
     "output_type": "stream",
     "text": [
      "   NumRooms Alley   Price\n",
      "0       NaN  Pave  127500\n",
      "1       2.0   NaN  106000\n",
      "2       4.0   NaN  178100\n",
      "3       NaN   NaN  140000\n",
      "   NumRooms Alley\n",
      "0       NaN  Pave\n",
      "1       2.0   NaN\n",
      "2       4.0   NaN\n",
      "3       NaN   NaN\n",
      "0    127500\n",
      "1    106000\n",
      "2    178100\n",
      "3    140000\n",
      "Name: Price, dtype: int64\n",
      "   NumRooms Alley\n",
      "0       3.0  Pave\n",
      "1       2.0   NaN\n",
      "2       4.0   NaN\n",
      "3       3.0   NaN\n",
      "      0     1     2\n",
      "0   1.0   2.0   3.0\n",
      "1  11.0  11.0   2.0\n",
      "2  11.0  11.0  11.0\n",
      "3   8.0   8.0  11.0\n",
      "   NumRooms  Alley_Pave  Alley_nan\n",
      "0       3.0        True      False\n",
      "1       2.0       False       True\n",
      "2       4.0       False       True\n",
      "3       3.0       False       True\n",
      "tensor([[1., 2., 3.],\n",
      "        [nan, nan, 2.],\n",
      "        [nan, nan, nan],\n",
      "        [8., 8., nan]])\n",
      "[[3. 1. 0.]\n",
      " [2. 0. 1.]\n",
      " [4. 0. 1.]\n",
      " [3. 0. 1.]]\n",
      "tensor([[3., 1., 0.],\n",
      "        [2., 0., 1.],\n",
      "        [4., 0., 1.],\n",
      "        [3., 0., 1.]], dtype=torch.float64)\n"
     ]
    }
   ],
   "source": [
    "#处理缺省值，[1:2]表示截取，[:]表示取当前维度下的每个数据\n",
    "from numpy import nan as NaN\n",
    "import torch\n",
    "import pandas as pd\n",
    "data = pd.read_csv('../data/house_tiny.csv')\n",
    "print(data)\n",
    "\n",
    "# 前者为data的前两列，而后者为data的最后一列\n",
    "inp,out = data.iloc[:,0:2], data.iloc[:,2]\n",
    "print(inp)\n",
    "print(out)\n",
    "# fillna表示每一列补充缺省的值。mean方法可以计算非缺省的值的平均值\n",
    "inputs = inp.fillna(inp.mean(numeric_only=True))  \n",
    "print(inputs)\n",
    "\n",
    "df1=pd.DataFrame([[1,2,3],[NaN,NaN,2],[NaN,NaN,NaN],[8,8,NaN]])\n",
    "df2 = df1.fillna(11)\n",
    "print(df2)\n",
    "inputs = pd.get_dummies(inputs, dummy_na=True)\n",
    "print(inputs)\n",
    "\n",
    "a1 = torch.tensor([[1,2,3],[NaN,NaN,2],[NaN,NaN,NaN],[8,8,NaN]])\n",
    "a4 = torch.zeros_like(a1)\n",
    "a4[:] = a1\n",
    "print(a4)\n",
    "\n",
    "a5 = inputs.to_numpy(dtype=float)\n",
    "print(a5)\n",
    "a6 = torch.tensor(a5)\n",
    "print(a6)\n",
    "\n"
   ]
  },
  {
   "cell_type": "code",
   "execution_count": null,
   "id": "f1646278-6698-451e-98fe-a4b2d1507604",
   "metadata": {},
   "outputs": [],
   "source": []
  }
 ],
 "metadata": {
  "kernelspec": {
   "display_name": "Python 3 (ipykernel)",
   "language": "python",
   "name": "python3"
  },
  "language_info": {
   "codemirror_mode": {
    "name": "ipython",
    "version": 3
   },
   "file_extension": ".py",
   "mimetype": "text/x-python",
   "name": "python",
   "nbconvert_exporter": "python",
   "pygments_lexer": "ipython3",
   "version": "3.12.7"
  }
 },
 "nbformat": 4,
 "nbformat_minor": 5
}
