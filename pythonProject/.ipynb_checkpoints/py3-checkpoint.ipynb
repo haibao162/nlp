{
 "cells": [
  {
   "cell_type": "code",
   "execution_count": 22,
   "id": "3f3538fd-1064-4d45-a824-b232ae682324",
   "metadata": {},
   "outputs": [
    {
     "name": "stdout",
     "output_type": "stream",
     "text": [
      "tensor([ 0,  1,  2,  3,  4,  5,  6,  7,  8,  9, 10, 11])\n",
      "torch.Size([12])\n",
      "12\n",
      "y tensor([[ 0,  1,  2,  3],\n",
      "        [ 4,  5,  6,  7],\n",
      "        [ 8,  9, 10, 11]])\n",
      "z tensor([[ 0,  1,  2],\n",
      "        [ 3,  4,  5],\n",
      "        [ 6,  7,  8],\n",
      "        [ 9, 10, 11]])\n",
      "a1 tensor([[[0., 0., 0., 0.],\n",
      "         [0., 0., 0., 0.],\n",
      "         [0., 0., 0., 0.]],\n",
      "\n",
      "        [[0., 0., 0., 0.],\n",
      "         [0., 0., 0., 0.],\n",
      "         [0., 0., 0., 0.]]])\n",
      "a2 tensor([[1., 1., 1., 1., 1.]])\n",
      "tensor([[-0.6681,  0.6931],\n",
      "        [ 0.3163, -0.1416]])\n",
      "tensor([[2, 1, 3],\n",
      "        [1, 5, 4]])\n"
     ]
    }
   ],
   "source": [
    "import torch\n",
    "x = torch.arange(12)\n",
    "print(x)\n",
    "print(x.shape)\n",
    "print(x.numel())\n",
    "y = x.reshape(3,4)\n",
    "z = x.reshape(4,-1)\n",
    "print('y', y)\n",
    "print('z', z)\n",
    "a1 = torch.zeros((2,3,4))\n",
    "print('a1', a1)\n",
    "a2 = torch.ones(1,5)\n",
    "print('a2', a2)\n",
    "a3 = torch.randn(2,2)\n",
    "print(a3)\n",
    "a4 = torch.tensor([[2,1,3],[1,5,4]])\n",
    "print(a4)"
   ]
  },
  {
   "cell_type": "code",
   "execution_count": 29,
   "id": "189b2a3f-0830-4d71-9003-1eec08ebf21f",
   "metadata": {},
   "outputs": [
    {
     "name": "stdout",
     "output_type": "stream",
     "text": [
      "tensor([[3, 5, 7],\n",
      "        [3, 5, 7]])\n",
      "tensor([[2, 4, 6],\n",
      "        [2, 4, 6]])\n",
      "tensor([[ 2,  6, 12],\n",
      "        [ 2,  6, 12]])\n",
      "tensor([[0.5000, 0.6667, 0.7500],\n",
      "        [0.5000, 0.6667, 0.7500]])\n",
      "tensor([[ 2.7183,  7.3891, 20.0855],\n",
      "        [ 2.7183,  7.3891, 20.0855]])\n"
     ]
    }
   ],
   "source": [
    "import torch\n",
    "b1 = torch.tensor([[1,2,3], [1,2,3]])\n",
    "b2 = torch.tensor([[2,3,4],[2,3,4]])\n",
    "print(b1 + b2)\n",
    "print(2 * b1)\n",
    "print(b1 * b2)\n",
    "print(b1 / b2)\n",
    "a5 = torch.exp(b1)\n",
    "print(a5)\n"
   ]
  },
  {
   "cell_type": "code",
   "execution_count": 51,
   "id": "9c9b28f3-ad5d-4005-baab-26ada95e14cc",
   "metadata": {},
   "outputs": [
    {
     "name": "stdout",
     "output_type": "stream",
     "text": [
      "tensor([[ 0.,  1.,  2.,  3.],\n",
      "        [ 4.,  5.,  6.,  7.],\n",
      "        [ 8.,  9., 10., 11.]])\n",
      "tensor([[ 1.,  2.,  3.,  4.],\n",
      "        [ 5.,  6.,  7.,  8.],\n",
      "        [ 9., 10., 11., 12.]])\n",
      "tensor([[ 0.,  1.,  2.,  3.],\n",
      "        [ 4.,  5.,  6.,  7.],\n",
      "        [ 8.,  9., 10., 11.],\n",
      "        [ 1.,  2.,  3.,  4.],\n",
      "        [ 5.,  6.,  7.,  8.],\n",
      "        [ 9., 10., 11., 12.]])\n",
      "tensor([[ 0.,  1.,  2.,  3.,  1.,  2.,  3.,  4.],\n",
      "        [ 4.,  5.,  6.,  7.,  5.,  6.,  7.,  8.],\n",
      "        [ 8.,  9., 10., 11.,  9., 10., 11., 12.]])\n",
      "tensor(78.)\n"
     ]
    }
   ],
   "source": [
    "import torch\n",
    "c1 = torch.arange(12, dtype=torch.float32).reshape(3,4)\n",
    "c2 = torch.tensor([[1.0,2,3,4], [5,6,7,8],[9,10,11,12]])\n",
    "print(c1)\n",
    "print(c2)\n",
    "c3 = torch.cat((c1,c2),dim=0)\n",
    "c4 = torch.cat((c1,c2),dim=1)\n",
    "# c4 = torch.cat((c1,c2),dim=2)\n",
    "print(c3)\n",
    "print(c4)\n",
    "print(c2.sum())\n",
    "\n"
   ]
  },
  {
   "cell_type": "code",
   "execution_count": 69,
   "id": "34136b46-02bc-4026-aea9-52b482f4cc01",
   "metadata": {},
   "outputs": [
    {
     "name": "stdout",
     "output_type": "stream",
     "text": [
      "tensor([[0, 1, 2]]) tensor([[0],\n",
      "        [1]]) tensor([[0, 1, 2],\n",
      "        [1, 2, 3]])\n",
      "tensor([[ 0,  1,  2,  3],\n",
      "        [ 4,  5,  6,  7],\n",
      "        [ 8,  9, 10, 11]])\n",
      "tensor([[ 4,  5,  6,  7],\n",
      "        [ 8,  9, 10, 11]])\n",
      "tensor(2)\n",
      "tensor([[999,   1,   2,   3],\n",
      "        [  4,   5,   6,   7],\n",
      "        [  8,   9,  10,  11]])\n",
      "tensor([[999,   1,   2,   3],\n",
      "        [  4,   5,   6,   7],\n",
      "        [  1,   1,   1,   1]])\n",
      "tensor([[999,   1,   2,   3],\n",
      "        [  4,   5,   6,   7],\n",
      "        [  2,   2,   2,   2]])\n"
     ]
    }
   ],
   "source": [
    "#广播机制\n",
    "import torch\n",
    "d1 = torch.arange(3).reshape((1,3))\n",
    "d2 = torch.arange(2).reshape((2,1))\n",
    "print(d1,d2,d1 + d2)\n",
    "# 索引\n",
    "d3 = torch.arange(12).reshape((3,4))\n",
    "print(d3)\n",
    "print(d3[1:3]) #前面包括，后面不包括\n",
    "print(d3[0,2])\n",
    "d3[0,0] = 999\n",
    "print(d3)\n",
    "d3[2:3, :] = 1\n",
    "print(d3)\n",
    "d3[2:3] = 2\n",
    "print(d3)"
   ]
  },
  {
   "cell_type": "code",
   "execution_count": 82,
   "id": "60f7b211-69c7-454b-a47e-970e5a6785c0",
   "metadata": {},
   "outputs": [
    {
     "name": "stdout",
     "output_type": "stream",
     "text": [
      "tensor([[ 0,  1,  2,  3],\n",
      "        [ 4,  5,  6,  7],\n",
      "        [ 8,  9, 10, 11]])\n",
      "tensor([[11, 12, 13, 14],\n",
      "        [15, 16, 17, 18],\n",
      "        [19, 20, 21, 22]])\n",
      "5191974448 5191974528\n",
      "5191963888 5191963888\n",
      "5191961968 5191961968 True\n"
     ]
    }
   ],
   "source": [
    "#内存共享\n",
    "import torch\n",
    "a1 = torch.arange(12).reshape(3,4)\n",
    "print(a1)\n",
    "before = id(a1)\n",
    "a1 = a1 + 11\n",
    "print(a1)\n",
    "print(before, id(a1))\n",
    "a2 = torch.arange(12).reshape(3,4)\n",
    "before2 = id(a2)\n",
    "a2 += 2\n",
    "print(before2, id(a2))\n",
    "a3 = torch.arange(12).reshape(3,4)\n",
    "before3 = id(a3)\n",
    "a4 = torch.zeros_like(a3)\n",
    "before4 = id(a4)\n",
    "a4[:] = a1 + 3 #基于a4的内存修改\n",
    "print(before4, id(a4), before4 == id(a4))"
   ]
  },
  {
   "cell_type": "code",
   "execution_count": 4,
   "id": "dacf43c7-2b1f-4135-8f0d-6446fb320249",
   "metadata": {},
   "outputs": [
    {
     "name": "stdout",
     "output_type": "stream",
     "text": [
      "tensor([[ 0,  1,  2,  3],\n",
      "        [ 4,  5,  6,  7],\n",
      "        [ 8,  9, 10, 11]])\n",
      "[[ 0  1  2  3]\n",
      " [ 4  5  6  7]\n",
      " [ 8  9 10 11]]\n",
      "tensor([[ 0,  1,  2,  3],\n",
      "        [ 4,  5,  6,  7],\n",
      "        [ 8,  9, 10, 11]])\n"
     ]
    }
   ],
   "source": [
    "#转换\n",
    "import numpy\n",
    "import torch\n",
    "a1 = torch.arange(12).reshape(3,4)\n",
    "a2 = a1.numpy()\n",
    "print(a1)\n",
    "print(a2)\n",
    "a3 = torch.tensor(a2)\n",
    "print(a3)\n"
   ]
  },
  {
   "cell_type": "code",
   "execution_count": 11,
   "id": "4487960d-7894-4a3d-a0f8-db3a01e850a2",
   "metadata": {},
   "outputs": [
    {
     "name": "stdout",
     "output_type": "stream",
     "text": [
      "tensor([[ True, False, False, False],\n",
      "        [False, False, False, False],\n",
      "        [False, False, False, False]])\n",
      "torch.Size([1, 2])\n"
     ]
    }
   ],
   "source": [
    "import torch\n",
    "c1 = torch.tensor([[1.0,2,3,4], [5,6,7,8],[9,10,11,12]])\n",
    "c2 = torch.tensor([[3.0,2,3,4], [5,6,7,8],[9,10,11,12]])\n",
    "print(c1 < c2)\n",
    "# print(torch.Size([1,2]))"
   ]
  },
  {
   "cell_type": "code",
   "execution_count": null,
   "id": "36a12212-654f-444b-8470-a3555431743a",
   "metadata": {},
   "outputs": [],
   "source": []
  }
 ],
 "metadata": {
  "kernelspec": {
   "display_name": "Python 3 (ipykernel)",
   "language": "python",
   "name": "python3"
  },
  "language_info": {
   "codemirror_mode": {
    "name": "ipython",
    "version": 3
   },
   "file_extension": ".py",
   "mimetype": "text/x-python",
   "name": "python",
   "nbconvert_exporter": "python",
   "pygments_lexer": "ipython3",
   "version": "3.12.7"
  }
 },
 "nbformat": 4,
 "nbformat_minor": 5
}
