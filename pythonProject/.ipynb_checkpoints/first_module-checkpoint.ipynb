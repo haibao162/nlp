{
 "cells": [
  {
   "cell_type": "code",
   "execution_count": null,
   "id": "797d04ac-1bb0-4106-9eaa-2b88259a1c31",
   "metadata": {},
   "outputs": [],
   "source": [
    "g_num = 100\n",
    "def show():\n",
    "    print('hanshu')\n",
    "class Student():\n",
    "    def __init__(self, name, age):\n",
    "        this.name = name\n",
    "        this.age = age\n",
    "    def show_msg(self):\n",
    "        print(self.name)\n",
    "if __name__ == '__main__':\n",
    "    show()\n",
    "        "
   ]
  }
 ],
 "metadata": {
  "kernelspec": {
   "display_name": "Python 3 (ipykernel)",
   "language": "python",
   "name": "python3"
  },
  "language_info": {
   "codemirror_mode": {
    "name": "ipython",
    "version": 3
   },
   "file_extension": ".py",
   "mimetype": "text/x-python",
   "name": "python",
   "nbconvert_exporter": "python",
   "pygments_lexer": "ipython3",
   "version": "3.12.7"
  }
 },
 "nbformat": 4,
 "nbformat_minor": 5
}
